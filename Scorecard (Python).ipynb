{
 "cells": [
  {
   "cell_type": "code",
   "execution_count": null,
   "id": "dc10c77f",
   "metadata": {},
   "outputs": [],
   "source": [
    "import pandas as pd\n",
    "import matplotlib.pyplot as plt\n",
    "import seaborn as sns"
   ]
  },
  {
   "cell_type": "code",
   "execution_count": null,
   "id": "97fccfbd",
   "metadata": {},
   "outputs": [],
   "source": [
    "#Reading in the csv.\n",
    "scorecard_df = pd.read_csv(r\"C:\\Users\\shiha\\Downloads\\Projects\\Work Projects\\ITJob_projects\\TableauEngagement\\FAKE_Scorecard_5Years.csv\")\n",
    "scorecard_df"
   ]
  },
  {
   "cell_type": "code",
   "execution_count": null,
   "id": "45a467cc",
   "metadata": {},
   "outputs": [],
   "source": [
    "#Question 1: What is the Engagement Score for each Company?\n",
    "selected_year = int(input(\"Year: \"))  # User input for year\n",
    "filtered_df = scorecard_df[scorecard_df['Year'] == selected_year]\n",
    "filtered_df = filtered_df.reset_index(drop=True)\n",
    "filtered_df['EngagementScore'] = filtered_df['EngagementScore'].round(2)\n",
    "filtered_df[['OrgName', 'EngagementScore']]"
   ]
  },
  {
   "cell_type": "code",
   "execution_count": null,
   "id": "f1810504",
   "metadata": {},
   "outputs": [],
   "source": [
    "#Question 1 Visual:\n",
    "\n",
    "selected_year = int(input(\"Enter the year you want to filter by (2020-2024):\"))\n",
    "top_n = int(input(\"Enter the number of top companies to display \"))\n",
    "\n",
    "filtered_df = scorecard_df[scorecard_df['Year'] == selected_year].reset_index(drop=True)\n",
    "\n",
    "filtered_df['EngagementScore'] = filtered_df['EngagementScore'].round(2)\n",
    "\n",
    "top_n_df = filtered_df.sort_values(by='EngagementScore', ascending=False).head(top_n)\n",
    "\n",
    "plt.figure(figsize=(12, 6))\n",
    "plt.bar(top_n_df['OrgName'], top_n_df['EngagementScore'], color='blue')\n",
    "\n",
    "plt.xlabel('Company Name', fontsize=12)\n",
    "plt.ylabel('Engagement Score', fontsize=12)\n",
    "plt.title(f'Top {top_n} Companies by Engagement Score for Year {selected_year}', fontsize=18)\n",
    "plt.xticks(rotation=45, ha='right')\n",
    "plt.tight_layout()\n",
    "plt.show()"
   ]
  },
  {
   "cell_type": "code",
   "execution_count": null,
   "id": "9fecf4d9",
   "metadata": {},
   "outputs": [],
   "source": [
    "#Question 2: What's the trend for Engagement Scores for each Company across the 5 Years?\n",
    "scorecard_df['EngagementScore'] = scorecard_df['EngagementScore'].round(2)\n",
    "scorecard_sorted = scorecard_df[['OrgName', 'Year', 'EngagementScore']].sort_values(by=['OrgName', 'Year', 'EngagementScore'], ascending=[True, True, False]).reset_index(drop=True)\n",
    "scorecard_sorted"
   ]
  },
  {
   "cell_type": "code",
   "execution_count": null,
   "id": "bc6994b8",
   "metadata": {},
   "outputs": [],
   "source": [
    "#Question 2 Visual:\n",
    "companies = scorecard_sorted['OrgName'].unique()\n",
    "for company in companies:\n",
    "    company_data = scorecard_sorted[scorecard_sorted['OrgName'] == company]\n",
    "    \n",
    "    plt.figure(figsize=(10, 6))\n",
    "    sns.lineplot(x='Year', y='EngagementScore', data=company_data, marker='o', label=company)\n",
    "    plt.title(f\"Engagement Score Over Time for {company}\")\n",
    "    plt.xlabel('Year')\n",
    "    plt.ylabel('Engagement Score')\n",
    "    plt.xticks([2020, 2021, 2022, 2023, 2024])\n",
    "    plt.grid(True)\n",
    "    plt.show()"
   ]
  },
  {
   "cell_type": "code",
   "execution_count": null,
   "id": "010c159b",
   "metadata": {},
   "outputs": [],
   "source": [
    "#Question 3: What are the various overall scores for the 6 categories for each company?\n",
    "\n",
    "pd.set_option('display.max_rows', None)\n",
    "pd.set_option('display.max_columns', None)\n",
    "\n",
    "selected_year = int(input(\"Enter the year you want to filter by: \"))\n",
    "\n",
    "filtered_df = scorecard_df[\n",
    "    (scorecard_df['Year'] == selected_year)\n",
    "][['OrgName', 'CE_overall_ss', 'PROC_overall_ss', 'INN_overall_ss', \n",
    "   'PHIL_overall_ss', 'T_overall_ss', 'R_overall_ss', 'EngagementScore']].reset_index(drop=True).round(1)\n",
    "\n",
    "filtered_df"
   ]
  },
  {
   "cell_type": "code",
   "execution_count": null,
   "id": "0718c9c1",
   "metadata": {},
   "outputs": [],
   "source": [
    "#Question 4: Is there a correlation between the number of Donations (PHIL) and Dollars Donated (PHIL)?\n",
    "\n",
    "year = int(input(\"Enter the year to filter by (2020-2024): \"))\n",
    "\n",
    "correlation = scorecard_df[scorecard_df['Year'] == year][['t_donations_PHIL', 't_dollarsdonated_PHIL']].sort_values(\n",
    "    by=['t_donations_PHIL', 't_dollarsdonated_PHIL'], \n",
    "    ascending=[False, False]).reset_index(drop=True)\n",
    "\n",
    "correlation"
   ]
  },
  {
   "cell_type": "code",
   "execution_count": null,
   "id": "ba041f21",
   "metadata": {},
   "outputs": [],
   "source": [
    "#Question 4 Visual:\n",
    "\n",
    "year = int(input(\"Enter the year to filter by: \"))\n",
    "\n",
    "filtered_data = scorecard_df[scorecard_df['Year'] == year][['t_donations_PHIL', 't_dollarsdonated_PHIL']]\n",
    "\n",
    "plt.figure(figsize=(8, 6))\n",
    "plt.scatter(filtered_data['t_donations_PHIL'], filtered_data['t_dollarsdonated_PHIL'], color='blue', alpha=0.6)\n",
    "plt.title(f\"Scatter Plot of Donations vs Dollars Donated for Year {year}\")\n",
    "plt.xlabel('t_donations_PHIL')\n",
    "plt.ylabel('t_dollarsdonated_PHIL')\n",
    "plt.grid(True)\n",
    "plt.show()"
   ]
  },
  {
   "cell_type": "code",
   "execution_count": null,
   "id": "fff7cb20",
   "metadata": {},
   "outputs": [],
   "source": [
    "#Question 5: What's the average Engagement Score for the large financial institutions across the 5 years?\n",
    "filtered_df = scorecard_df[scorecard_df['OrgName'].isin([\"JPMorgan Chase & Co.\", \"Wells Fargo\", \"Bank of America\", \"Goldman Sachs\"])]\n",
    "grouped_df = filtered_df.groupby('OrgName')['EngagementScore'].mean().reset_index()\n",
    "grouped_df['AverageEngagementScore'] = grouped_df['EngagementScore'].round(2)\n",
    "sorted_df = grouped_df[['OrgName', 'AverageEngagementScore']].sort_values(by='AverageEngagementScore', ascending=False).reset_index(drop=True)\n",
    "sorted_df"
   ]
  },
  {
   "cell_type": "code",
   "execution_count": null,
   "id": "4ede9a17",
   "metadata": {},
   "outputs": [],
   "source": [
    "#Question 5 Visual:\n",
    "plt.figure(figsize=(5, 5))\n",
    "sns.barplot(data=sorted_df, x='AverageEngagementScore', y='OrgName', palette='viridis')\n",
    "plt.xlabel('AverageEngagementScore')\n",
    "plt.ylabel('OrgName')\n",
    "plt.title('Average Engagement Score by Company')\n",
    "plt.show()"
   ]
  },
  {
   "cell_type": "code",
   "execution_count": null,
   "id": "bdf9ed05",
   "metadata": {},
   "outputs": [],
   "source": [
    "#Question 6: Which Companies had an Engagement Score above the average in 2024?\n",
    "avg_engagement_score_2024 = scorecard_df[scorecard_df['Year'] == 2024]['EngagementScore'].mean()\n",
    "filtered_df = scorecard_df[(scorecard_df['EngagementScore'] >= avg_engagement_score_2024) & (scorecard_df['Year'] == 2024)]\n",
    "filtered_df['EngagementScore'] = filtered_df['EngagementScore'].round(1)\n",
    "result_df = filtered_df[['OrgName', 'EngagementScore']]\n",
    "result_df = result_df.sort_values(by='EngagementScore', ascending=False).reset_index(drop=True)\n",
    "result_df = result_df.head(48)\n",
    "result_df"
   ]
  },
  {
   "cell_type": "code",
   "execution_count": null,
   "id": "94fafcc2",
   "metadata": {},
   "outputs": [],
   "source": [
    "#Question 6 Visual:\n",
    "plt.figure(figsize=(10, 6))\n",
    "sns.barplot(x='EngagementScore', y='OrgName', data=result_df, palette='viridis')\n",
    "plt.xlabel('EngagementScore')\n",
    "plt.ylabel('OrgName')\n",
    "plt.title('Top Companies with Engagement Scores Above Average (2024)')\n",
    "plt.yticks(fontsize=8)\n",
    "plt.show()"
   ]
  }
 ],
 "metadata": {
  "kernelspec": {
   "display_name": "Python 3 (ipykernel)",
   "language": "python",
   "name": "python3"
  },
  "language_info": {
   "codemirror_mode": {
    "name": "ipython",
    "version": 3
   },
   "file_extension": ".py",
   "mimetype": "text/x-python",
   "name": "python",
   "nbconvert_exporter": "python",
   "pygments_lexer": "ipython3",
   "version": "3.11.5"
  }
 },
 "nbformat": 4,
 "nbformat_minor": 5
}
