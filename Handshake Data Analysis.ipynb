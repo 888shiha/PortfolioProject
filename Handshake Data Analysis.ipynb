{
 "cells": [
  {
   "cell_type": "markdown",
   "id": "87c820fa",
   "metadata": {},
   "source": [
    "# Interview Data Analysis"
   ]
  },
  {
   "cell_type": "code",
   "execution_count": null,
   "id": "227ac1e3",
   "metadata": {},
   "outputs": [],
   "source": [
    "#Importing Pandas and Matplotlib for the data analysis\n",
    "import pandas as pd\n",
    "import matplotlib.pyplot as plt"
   ]
  },
  {
   "cell_type": "code",
   "execution_count": null,
   "id": "363b3a69",
   "metadata": {},
   "outputs": [],
   "source": [
    "#Reading in the Interview csv file\n",
    "df = pd.read_csv(r\"C:\\Users\\shiha\\Downloads\\Projects\\Work Projects\\ITJob_projects\\ExcelHandshake\\HS_Scorecard_Interviews.csv\",\n",
    "                encoding = 'ISO-8859-1')\n",
    "#Changing the row and column limit so that all the rows and columns are displayed\n",
    "pd.set_option('display.max.rows', 300)\n",
    "pd.set_option('display.max.columns', 10)\n",
    "df"
   ]
  },
  {
   "cell_type": "code",
   "execution_count": null,
   "id": "4031a781",
   "metadata": {},
   "outputs": [],
   "source": [
    "#Getting a general overview of the data\n",
    "df.info()"
   ]
  },
  {
   "cell_type": "code",
   "execution_count": null,
   "id": "af243aa8",
   "metadata": {},
   "outputs": [],
   "source": [
    "#There is one NaN row that needs to be dropped\n",
    "df = df.dropna()"
   ]
  },
  {
   "cell_type": "code",
   "execution_count": null,
   "id": "821dd594",
   "metadata": {},
   "outputs": [],
   "source": [
    "#Changing the Employer ID column from a Float to an Int data type\n",
    "df['Employer ID'] = df['Employer ID'].astype(int)"
   ]
  },
  {
   "cell_type": "code",
   "execution_count": null,
   "id": "3f7ecc08",
   "metadata": {},
   "outputs": [],
   "source": [
    "#Changing the Interview Date column from an Object to a Date data type\n",
    "df['Interview Date'] = pd.to_datetime(df['Interview Date'])"
   ]
  },
  {
   "cell_type": "code",
   "execution_count": null,
   "id": "d7e69ed8",
   "metadata": {},
   "outputs": [],
   "source": [
    "#Question 1 Code: How many times did each Employer host an Interview?\n",
    "\n",
    "group_by_employer = df.groupby(['Employer Name']).agg(num_times_attended = ('Interview Date', 'count')).reset_index()\n",
    "group_by_employer_sorted = group_by_employer.sort_values(by='num_times_attended', ascending=False).reset_index(drop=True)\n",
    "(group_by_employer_sorted)"
   ]
  },
  {
   "cell_type": "code",
   "execution_count": null,
   "id": "1953b41c",
   "metadata": {},
   "outputs": [],
   "source": [
    "#Question 1 Bar Graph: How many times did each Employer host an Interview?\n",
    "#Note: To change the number of Employers displayed, put a number between 1 and 254 in the first parenthesis below!\n",
    "#Insights: Honeywell, TTI, and E & J hosted the most interviews.\n",
    "\n",
    "top_n_employers = group_by_employer_sorted.head(25)\n",
    "plt.figure(figsize=(15, 5))\n",
    "plt.bar(top_n_employers['Employer Name'], top_n_employers['num_times_attended'], color='orange')\n",
    "plt.title('Interviews Per Employer')\n",
    "plt.xlabel('Employer Name')\n",
    "plt.ylabel('Number of Interviews')\n",
    "plt.xticks(rotation=90)\n",
    "plt.show()"
   ]
  },
  {
   "cell_type": "code",
   "execution_count": null,
   "id": "44f01f7f",
   "metadata": {},
   "outputs": [],
   "source": [
    "#Question 2 Code: How many Interviews did each Career Center host?\n",
    "\n",
    "group_by_career_center = df.groupby(['Career Center Name']).agg(num_interviews = ('Interview Date', 'count')).reset_index()\n",
    "group_by_career_center_sorted = group_by_career_center.sort_values(by='num_interviews', ascending=False).reset_index(drop=True)\n",
    "(group_by_career_center_sorted)"
   ]
  },
  {
   "cell_type": "code",
   "execution_count": null,
   "id": "8fd74899",
   "metadata": {},
   "outputs": [],
   "source": [
    "#Question 2 Bar Graph: How many Interviews did each Career Center host?\n",
    "#Insights: CAPLA and Eller hosted the most interviews.\n",
    "\n",
    "plt.figure(figsize=(7, 5))\n",
    "plt.bar(group_by_career_center_sorted['Career Center Name'], group_by_career_center_sorted['num_interviews'], color='orange')\n",
    "plt.title('Number of Interviews Per Career Center')\n",
    "plt.xlabel('Career Center')\n",
    "plt.ylabel('Number of Interviews')\n",
    "plt.xticks(rotation=90)\n",
    "plt.show()"
   ]
  },
  {
   "cell_type": "code",
   "execution_count": null,
   "id": "2ba4aec4",
   "metadata": {},
   "outputs": [],
   "source": [
    "#Question 3 Line Graph: When did these Interviews take place?\n",
    "#Insights: During Quarter 1 of 2022 and 2023, the number of Interviews spiked up significantly.\n",
    "\n",
    "df['Quarter'] = df['Interview Date'].dt.to_period('Q')\n",
    "quarterly_data = df.groupby('Quarter').size()\n",
    "plt.figure(figsize=(10, 6))\n",
    "quarterly_data.plot(kind='line', marker='o', color='orange')\n",
    "plt.title('Number of Interviews by Quarter')\n",
    "plt.xlabel('Quarter')\n",
    "plt.ylabel('Number of Interviews')\n",
    "plt.grid(False)\n",
    "plt.xticks(rotation=45)\n",
    "plt.tight_layout()\n",
    "plt.show()"
   ]
  },
  {
   "cell_type": "code",
   "execution_count": null,
   "id": "fe167914",
   "metadata": {},
   "outputs": [],
   "source": []
  },
  {
   "cell_type": "markdown",
   "id": "992c77ba",
   "metadata": {},
   "source": [
    "# Events Data Analysis"
   ]
  },
  {
   "cell_type": "code",
   "execution_count": null,
   "id": "d78b618a",
   "metadata": {},
   "outputs": [],
   "source": [
    "#Reading in the Events csv file\n",
    "df2 = pd.read_csv(r\"C:\\Users\\shiha\\Downloads\\Projects\\Work Projects\\ITJob_projects\\ExcelHandshake\\HS_Scorecard_Events.csv\",\n",
    "                encoding = 'ISO-8859-1')\n",
    "#Changing the row and column limit so that all the rows and columns are displayed\n",
    "pd.set_option('display.max.rows', 1600)\n",
    "pd.set_option('display.max.columns', 10)\n",
    "df2"
   ]
  },
  {
   "cell_type": "code",
   "execution_count": null,
   "id": "b88784ad",
   "metadata": {},
   "outputs": [],
   "source": [
    "#Getting a general overview of the data\n",
    "df2.info()"
   ]
  },
  {
   "cell_type": "code",
   "execution_count": null,
   "id": "108e5d26",
   "metadata": {},
   "outputs": [],
   "source": [
    "#Dropping row with index 1527 because it's Null\n",
    "df2 = df2.drop(1527)"
   ]
  },
  {
   "cell_type": "code",
   "execution_count": null,
   "id": "7ef0b04b",
   "metadata": {},
   "outputs": [],
   "source": [
    "#Changing data type of Events ID column from a Float to an Integer\n",
    "df2['Events ID'] = df2['Events ID'].astype(int)"
   ]
  },
  {
   "cell_type": "code",
   "execution_count": null,
   "id": "17abe78d",
   "metadata": {},
   "outputs": [],
   "source": [
    "#Changing data type of Events Start Date column from a String to a Date\n",
    "df2['Events Start Date'] = pd.to_datetime(df2['Events Start Date'])"
   ]
  },
  {
   "cell_type": "code",
   "execution_count": null,
   "id": "883a4f21",
   "metadata": {},
   "outputs": [],
   "source": [
    "#Changing data type of Attendees Count column from a Float to an Integer\n",
    "df2['Attendees Count'] = df2['Attendees Count'].astype(int)"
   ]
  },
  {
   "cell_type": "code",
   "execution_count": null,
   "id": "9ea501e2",
   "metadata": {},
   "outputs": [],
   "source": [
    "#Most of the records in the Career Center Name are Null, so they're replaced with 'Unknown'\n",
    "df2 = df2.fillna('Unknown')"
   ]
  },
  {
   "cell_type": "code",
   "execution_count": null,
   "id": "cac370b8",
   "metadata": {},
   "outputs": [],
   "source": [
    "#Changing 3 column names to more concise names\n",
    "df2.rename(columns={'Events Start Date': 'Events Date'}, inplace = True)"
   ]
  },
  {
   "cell_type": "code",
   "execution_count": null,
   "id": "29570e96",
   "metadata": {},
   "outputs": [],
   "source": [
    "df2.rename(columns={'Event Type Name': 'Event Type'}, inplace = True)"
   ]
  },
  {
   "cell_type": "code",
   "execution_count": null,
   "id": "41a69b3a",
   "metadata": {},
   "outputs": [],
   "source": [
    "df2.rename(columns={'Career Center Name': 'Career Center'}, inplace = True)"
   ]
  },
  {
   "cell_type": "code",
   "execution_count": null,
   "id": "c164ae92",
   "metadata": {},
   "outputs": [],
   "source": [
    "#Question 1 Code: How many times was each Event Type held?\n",
    "\n",
    "group_by_event_type = df2.groupby(['Event Type']).agg(num_employers = ('Employers Name', 'count')).reset_index()\n",
    "group_by_event_type_sorted = group_by_event_type.sort_values(by='num_employers', ascending=False).reset_index(drop=True)\n",
    "group_by_event_type_sorted"
   ]
  },
  {
   "cell_type": "code",
   "execution_count": null,
   "id": "e3a15565",
   "metadata": {},
   "outputs": [],
   "source": [
    "#Question 1 Bar Graph: How many times was each Event Type held?\n",
    "#Insights: The Info Session Event Type was by far held the most amount of times.\n",
    "\n",
    "plt.figure(figsize=(13, 7))\n",
    "plt.bar(group_by_event_type_sorted['Event Type'], group_by_event_type_sorted['num_employers'], color='green')\n",
    "plt.title('Total Times Each Event Type Was Held')\n",
    "plt.xlabel('Event Type')\n",
    "plt.ylabel('Number of Times')\n",
    "plt.xticks(rotation=90)\n",
    "plt.show()"
   ]
  },
  {
   "cell_type": "code",
   "execution_count": null,
   "id": "57c4122b",
   "metadata": {},
   "outputs": [],
   "source": [
    "#Question 2 Code: How many Attendees were there for each Employer\n",
    "\n",
    "group_by_employer_attendees = df2.groupby(['Employers Name']).agg(Total_Attendees = ('Attendees Count', 'sum')).reset_index()\n",
    "group_by_employer_attendees_sorted = group_by_employer_attendees.sort_values(by='Total_Attendees', ascending=False).reset_index(drop=True)\n",
    "pd.set_option('display.max.rows', 500)\n",
    "group_by_employer_attendees_sorted"
   ]
  },
  {
   "cell_type": "code",
   "execution_count": null,
   "id": "c558259c",
   "metadata": {},
   "outputs": [],
   "source": [
    "#Question 2 Bar Graph: How many Attendees were there for each Employer\n",
    "#Insights: Goldman Sachs had the largest attendees by far, with Google, RTX, and Ancestry following it.\n",
    "\n",
    "top_n__employers = group_by_employer_attendees_sorted.head(10)\n",
    "plt.figure(figsize=(15, 15))\n",
    "plt.bar(top_n__employers['Employers Name'], top_n__employers['Total_Attendees'], color='green')\n",
    "plt.title('Total Attendees Per Employer')\n",
    "plt.xlabel('Employers Name')\n",
    "plt.ylabel('Total Attendees')\n",
    "plt.xticks(rotation=90)\n",
    "plt.show()"
   ]
  },
  {
   "cell_type": "code",
   "execution_count": null,
   "id": "bb91e0b9",
   "metadata": {},
   "outputs": [],
   "source": [
    "#Question 3 Code: How many Events did each Employer host?\n",
    "\n",
    "group_by_employers_total = df2.groupby(['Employers Name']).agg(Total_Times_Attended = ('Events Date', 'count')).reset_index()\n",
    "group_by_employers_total_sorted = group_by_employers_total.sort_values(by='Total_Times_Attended', ascending=False).reset_index(drop=True)\n",
    "pd.set_option('display.max.rows', 500)\n",
    "group_by_employers_total_sorted"
   ]
  },
  {
   "cell_type": "code",
   "execution_count": null,
   "id": "f8472ef6",
   "metadata": {},
   "outputs": [],
   "source": [
    "#Question 3 Bar Graph: How many Events did each Employer host?\n",
    "#Insights: Morgan Stanley, EY, Mayo Clinic, and Goldman Sachs hosted the most Events.\n",
    "\n",
    "top__n__employers = group_by_employers_total_sorted.head(10)\n",
    "plt.figure(figsize=(15, 15))\n",
    "plt.bar(top__n__employers['Employers Name'], top__n__employers['Total_Times_Attended'], color='green')\n",
    "plt.title('Total Times Each Employer Attended')\n",
    "plt.xlabel('Employers Name')\n",
    "plt.ylabel('Total Times')\n",
    "plt.xticks(rotation=90)\n",
    "plt.show()"
   ]
  },
  {
   "cell_type": "code",
   "execution_count": null,
   "id": "fb267e23",
   "metadata": {},
   "outputs": [],
   "source": [
    "#Question 4 Code: How many Attendees were there for each Event Type?\n",
    "\n",
    "group_by_attendees_type = df2.groupby(['Event Type']).agg(Total_Attendees = ('Attendees Count', 'sum')).reset_index()\n",
    "group_by_attendees_type_sorted = group_by_attendees_type.sort_values(by='Total_Attendees', ascending=False).reset_index(drop=True)\n",
    "group_by_attendees_type_sorted"
   ]
  },
  {
   "cell_type": "code",
   "execution_count": null,
   "id": "4b65f271",
   "metadata": {},
   "outputs": [],
   "source": [
    "#Question 4 Bar Graph: How many Attendees were there for each Event Type?\n",
    "#Insights: Info Sessions had the most attendees by far.\n",
    "\n",
    "plt.figure(figsize=(15, 15))\n",
    "plt.bar(group_by_attendees_type_sorted['Event Type'], group_by_attendees_type_sorted['Total_Attendees'], color='green')\n",
    "plt.title('Total Attendees Per Event Type')\n",
    "plt.xlabel('Event Type')\n",
    "plt.ylabel('Total Attendees')\n",
    "plt.xticks(rotation=90)\n",
    "plt.show()"
   ]
  },
  {
   "cell_type": "code",
   "execution_count": null,
   "id": "a6733fee",
   "metadata": {},
   "outputs": [],
   "source": [
    "#Question 5 Code: How many Events did each Career Center host?\n",
    "\n",
    "group_by_career_center = df2.groupby(['Career Center']).agg(Total_Employers = ('Employers Name', 'count')).reset_index()\n",
    "group_by_career_center_sorted = group_by_career_center.sort_values(by='Total_Employers', ascending=False).reset_index(drop=True)\n",
    "group_by_career_center_sorted"
   ]
  },
  {
   "cell_type": "code",
   "execution_count": null,
   "id": "f3b0547f",
   "metadata": {},
   "outputs": [],
   "source": [
    "#Question 5 Bar Graph: How many Events did each Career Center host?\n",
    "#Insights: Most of the Employers did not have an associated Career Center, so this analysis proves useless.\n",
    "\n",
    "plt.figure(figsize=(15, 15))\n",
    "plt.bar(group_by_career_center_sorted['Career Center'], group_by_career_center_sorted['Total_Employers'], color='green')\n",
    "plt.title('Total Employer Attendees Per Career Center')\n",
    "plt.xlabel('Career Center')\n",
    "plt.ylabel('Total Employer Attendees')\n",
    "plt.xticks(rotation=90)\n",
    "plt.show()"
   ]
  },
  {
   "cell_type": "code",
   "execution_count": null,
   "id": "35ec61bb",
   "metadata": {},
   "outputs": [],
   "source": [
    "#Question 6 Code: How many Attendees attended each Event?\n",
    "\n",
    "group_by_events_name = df2.groupby(['Events Name']).agg(Total_Employers = ('Attendees Count', 'sum')).reset_index()\n",
    "group_by_events_name_sorted = group_by_events_name.sort_values(by='Total_Employers', ascending=False).reset_index(drop=True)\n",
    "group_by_events_name_sorted"
   ]
  },
  {
   "cell_type": "code",
   "execution_count": null,
   "id": "f805a4b8",
   "metadata": {},
   "outputs": [],
   "source": [
    "#Question 6 Code: How many Attendees attended each Event?\n",
    "#Insights: Retail Fuse had the most attendees by far.\n",
    "\n",
    "top____n____employers = group_by_events_name_sorted.head(10)\n",
    "plt.figure(figsize=(15, 15))\n",
    "plt.bar(top____n____employers['Events Name'], top____n____employers['Total_Employers'], color='green')\n",
    "plt.title('Total Employer Attendees Per Event')\n",
    "plt.xlabel('Event Name')\n",
    "plt.ylabel('Total Employer Attendees')\n",
    "plt.xticks(rotation=90)\n",
    "plt.show()"
   ]
  },
  {
   "cell_type": "code",
   "execution_count": null,
   "id": "140e5564",
   "metadata": {},
   "outputs": [],
   "source": [
    "#Question 7 Line Graph: When did these Events take place?\n",
    "#Insights: During Quarters 3 & 4 of 2022 and 2023, the number of Events spiked up significantly.\n",
    "\n",
    "df2['Quarter'] = df2['Events Date'].dt.to_period('Q')\n",
    "quarterly_data = df2.groupby('Quarter').size()\n",
    "plt.figure(figsize=(10, 6))\n",
    "quarterly_data.plot(kind='line', marker='o', color='green')\n",
    "plt.title('Number of Events by Quarter')\n",
    "plt.xlabel('Quarter')\n",
    "plt.ylabel('Number of Events')\n",
    "plt.grid(False)\n",
    "plt.xticks(rotation=45)\n",
    "plt.tight_layout()\n",
    "plt.show()"
   ]
  },
  {
   "cell_type": "code",
   "execution_count": null,
   "id": "d3b974de",
   "metadata": {},
   "outputs": [],
   "source": []
  },
  {
   "cell_type": "markdown",
   "id": "299c19ab",
   "metadata": {},
   "source": [
    "# Career Fair Data Analysis\n"
   ]
  },
  {
   "cell_type": "code",
   "execution_count": null,
   "id": "1f716c0d",
   "metadata": {},
   "outputs": [],
   "source": [
    "#Reading in the Career Fair csv file\n",
    "df3 = pd.read_csv(r\"C:\\Users\\shiha\\Downloads\\Projects\\Work Projects\\ITJob_projects\\ExcelHandshake\\HS_Scorecard_CareerFairs.csv\",\n",
    "                encoding = 'ISO-8859-1')\n",
    "#Changing the row and column limit so that all the rows and columns are displayed\n",
    "pd.set_option('display.max.rows', 2500)\n",
    "pd.set_option('display.max.columns', 10)\n",
    "df3"
   ]
  },
  {
   "cell_type": "code",
   "execution_count": null,
   "id": "152054c0",
   "metadata": {},
   "outputs": [],
   "source": [
    "#Getting a general overview of the data\n",
    "df3.info()"
   ]
  },
  {
   "cell_type": "code",
   "execution_count": null,
   "id": "f31e856d",
   "metadata": {},
   "outputs": [],
   "source": [
    "#Dropping row with index 2320 because it's Null\n",
    "df3 = df3.drop(2320)"
   ]
  },
  {
   "cell_type": "code",
   "execution_count": null,
   "id": "713aa1d9",
   "metadata": {},
   "outputs": [],
   "source": [
    "#Changing Career Fair ID column from a Float to an Int\n",
    "df3['Career Fair ID'] = df3['Career Fair ID'].astype(int)"
   ]
  },
  {
   "cell_type": "code",
   "execution_count": null,
   "id": "3162b4ac",
   "metadata": {},
   "outputs": [],
   "source": [
    "#Changing Employers Count column from a Float to an Int\n",
    "df3['Employers Count'] = df3['Employers Count'].astype(int)"
   ]
  },
  {
   "cell_type": "code",
   "execution_count": null,
   "id": "ad3b22a2",
   "metadata": {},
   "outputs": [],
   "source": [
    "#Changing Career Fair Dates and Times Start Date column from a String to a Date\n",
    "df3['Career Fair Dates and Times Start Date'] = pd.to_datetime(df3['Career Fair Dates and Times Start Date'])"
   ]
  },
  {
   "cell_type": "code",
   "execution_count": null,
   "id": "b53b71a3",
   "metadata": {},
   "outputs": [],
   "source": [
    "#Changing 2 column names to more concise names\n",
    "df3.rename(columns={'Career Fair Dates and Times Start Date': 'Career Fairs Date'}, inplace = True)"
   ]
  },
  {
   "cell_type": "code",
   "execution_count": null,
   "id": "38b855bc",
   "metadata": {},
   "outputs": [],
   "source": [
    "df3.rename(columns={'Career Center Name': 'Career Center'}, inplace = True)"
   ]
  },
  {
   "cell_type": "code",
   "execution_count": null,
   "id": "72421244",
   "metadata": {},
   "outputs": [],
   "source": [
    "#Question 1 Code: How many times did each Employer attend a Career Fair?\n",
    "\n",
    "group_by_employer_name = df3.groupby(['Employers Name']).agg(num_of_employers = ('Employers Count', 'sum')).reset_index()\n",
    "group_by_employer_name_sorted = group_by_employer_name.sort_values(by='num_of_employers', ascending=False).reset_index(drop=True)\n",
    "group_by_employer_name_sorted"
   ]
  },
  {
   "cell_type": "code",
   "execution_count": null,
   "id": "3daeb067",
   "metadata": {},
   "outputs": [],
   "source": [
    "import numpy as np\n",
    "#Question 1 Bar Graph: How many times did each Employer attend a Career Fair?\n",
    "#Insights: BASIS attended the most career fairs, without any other notable trends.\n",
    "\n",
    "top______n______employers = group_by_employer_name_sorted.head(10)\n",
    "plt.figure(figsize=(15, 5))\n",
    "plt.bar(top______n______employers['Employers Name'], top______n______employers['num_of_employers'], color='blue')\n",
    "plt.title('Career Fairs Per Employer')\n",
    "plt.xlabel('Employer Name')\n",
    "plt.ylabel('Number of Career Fairs')\n",
    "plt.xticks(rotation=90)\n",
    "plt.yticks(np.arange(0, 22, step=2))\n",
    "plt.show()"
   ]
  },
  {
   "cell_type": "code",
   "execution_count": null,
   "id": "c73a0606",
   "metadata": {},
   "outputs": [],
   "source": [
    "#Question 2 Code: How many Employers attended each Career Fair?\n",
    "\n",
    "group_by_career_fair_name = df3.groupby(['Career Fairs Name']).agg(num_of_employers = ('Career Fairs Name', 'count')).reset_index()\n",
    "group_by_career_fair_name_sorted = group_by_career_fair_name.sort_values(by='num_of_employers', ascending=False).reset_index(drop=True)\n",
    "group_by_career_fair_name_sorted"
   ]
  },
  {
   "cell_type": "code",
   "execution_count": null,
   "id": "61cec582",
   "metadata": {},
   "outputs": [],
   "source": [
    "#Question 2 Bar Graph: How many Employers attended each Career Fair?\n",
    "#Insights: Fall 2022 Eller Expo had the most employer attendees, with Fall 2023 and 2021 Eller Expos following.\n",
    "\n",
    "top______n______employers = group_by_employer_name_sorted.head(10)\n",
    "plt.figure(figsize=(15, 5))\n",
    "plt.bar(group_by_career_fair_name_sorted['Career Fairs Name'], group_by_career_fair_name_sorted['num_of_employers'], color='blue')\n",
    "plt.title('Employer Attendees Per Career Fair')\n",
    "plt.xlabel('Career Fair')\n",
    "plt.ylabel('Number Of Employers')\n",
    "plt.xticks(rotation=90)\n",
    "plt.show()"
   ]
  },
  {
   "cell_type": "code",
   "execution_count": null,
   "id": "41f3ba71",
   "metadata": {},
   "outputs": [],
   "source": [
    "#Question 3 Line Graph: When did these Career Fairs take place?\n",
    "#Insights: During Quarters 1 & 3 of 2022 and 2023, the number of Career Fairs spiked up significantly.\n",
    "\n",
    "df3['Quarter'] = df3['Career Fairs Date'].dt.to_period('Q')\n",
    "quarterly_data = df3.groupby('Quarter').size()\n",
    "plt.figure(figsize=(10, 6))\n",
    "quarterly_data.plot(kind='line', marker='o', color='blue')\n",
    "plt.title('Number of Career Fairs by Quarter')\n",
    "plt.xlabel('Quarter')\n",
    "plt.ylabel('Number of Career Fairs')\n",
    "plt.grid(False)\n",
    "plt.xticks(rotation=45)\n",
    "plt.tight_layout()\n",
    "plt.show()"
   ]
  },
  {
   "cell_type": "code",
   "execution_count": null,
   "id": "40b4ceb8",
   "metadata": {},
   "outputs": [],
   "source": []
  }
 ],
 "metadata": {
  "kernelspec": {
   "display_name": "Python 3 (ipykernel)",
   "language": "python",
   "name": "python3"
  },
  "language_info": {
   "codemirror_mode": {
    "name": "ipython",
    "version": 3
   },
   "file_extension": ".py",
   "mimetype": "text/x-python",
   "name": "python",
   "nbconvert_exporter": "python",
   "pygments_lexer": "ipython3",
   "version": "3.11.5"
  }
 },
 "nbformat": 4,
 "nbformat_minor": 5
}
