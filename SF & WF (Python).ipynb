{
 "cells": [
  {
   "cell_type": "code",
   "execution_count": null,
   "id": "b75cbddf",
   "metadata": {},
   "outputs": [],
   "source": [
    "import pandas as pd\n",
    "import matplotlib.pyplot as plt\n",
    "import seaborn as sns"
   ]
  },
  {
   "cell_type": "code",
   "execution_count": null,
   "id": "ccd62400",
   "metadata": {},
   "outputs": [],
   "source": [
    "pd.set_option('display.max_rows', 100)\n",
    "pd.set_option('display.max_columns', 6)\n",
    "wf_df = pd.read_csv(r'C:\\Users\\shiha\\Downloads\\Projects\\Work Projects\\ITJob_projects\\TableauWhatfix\\whatfix.csv')\n",
    "wf_df"
   ]
  },
  {
   "cell_type": "code",
   "execution_count": null,
   "id": "a608a7eb",
   "metadata": {},
   "outputs": [],
   "source": [
    "pd.set_option('display.max_rows', 100)\n",
    "pd.set_option('display.max_columns', 6)\n",
    "campus_df = pd.read_csv(r'C:\\Users\\shiha\\Downloads\\Projects\\Work Projects\\ITJob_projects\\TableauWhatfix\\campuswide.csv', encoding = 'ISO-8859-1')\n",
    "campus_df"
   ]
  },
  {
   "cell_type": "code",
   "execution_count": null,
   "id": "e25599c5",
   "metadata": {},
   "outputs": [],
   "source": [
    "pd.set_option('display.max_rows', 100)\n",
    "pd.set_option('display.max_columns', 6)\n",
    "sep_df = pd.read_csv(r'C:\\Users\\shiha\\Downloads\\Projects\\Work Projects\\ITJob_projects\\TableauWhatfix\\sep.csv', encoding = 'ISO-8859-1')\n",
    "sep_df"
   ]
  },
  {
   "cell_type": "markdown",
   "id": "11fe5223",
   "metadata": {},
   "source": [
    "### Step 1: Data Cleaning Phase"
   ]
  },
  {
   "cell_type": "code",
   "execution_count": null,
   "id": "abebe350",
   "metadata": {},
   "outputs": [],
   "source": [
    "#1a: Checking general info\n",
    "wf_df.info()\n",
    "campus_df.info()\n",
    "sep_df.info()"
   ]
  },
  {
   "cell_type": "markdown",
   "id": "86fec991",
   "metadata": {},
   "source": [
    "### Step 2: Data Analysis Phase"
   ]
  },
  {
   "cell_type": "code",
   "execution_count": null,
   "id": "fbf86e9d",
   "metadata": {},
   "outputs": [],
   "source": [
    "#Question 1: How many users are Trellis users (1) vs non-Trellis users (0)?\n",
    "trellis_users = campus_df.groupby('Trellis User').size().reset_index(name='Total Users').sort_values(by='Total Users', ascending=False)\n",
    "trellis_users"
   ]
  },
  {
   "cell_type": "code",
   "execution_count": null,
   "id": "6c16f401",
   "metadata": {},
   "outputs": [],
   "source": [
    "#Question 1 Visual:\n",
    "plt.figure(figsize=(5, 5))\n",
    "plt.pie(trellis_users['Total Users'], labels=trellis_users['Trellis User'], autopct='%1.1f%%', startangle=90)\n",
    "plt.title('Distribution of Trellis Users')\n",
    "plt.axis('equal')\n",
    "plt.show()"
   ]
  },
  {
   "cell_type": "code",
   "execution_count": null,
   "id": "7cf74088",
   "metadata": {},
   "outputs": [],
   "source": [
    "#Question 2: How many users are Active users (1) vs non-Active users (0)?\n",
    "active_users = campus_df.groupby('User: Active').size().reset_index(name='Total Users').sort_values(by='Total Users', ascending=False)\n",
    "active_users"
   ]
  },
  {
   "cell_type": "code",
   "execution_count": null,
   "id": "72feaa41",
   "metadata": {},
   "outputs": [],
   "source": [
    "#Question 2 Visual:\n",
    "plt.figure(figsize=(5, 5))\n",
    "plt.pie(active_users['Total Users'], labels=active_users['User: Active'], autopct='%1.1f%%', startangle=90)\n",
    "plt.title('Active Users vs Non-Active Users')\n",
    "plt.axis('equal')\n",
    "plt.show()"
   ]
  },
  {
   "cell_type": "code",
   "execution_count": null,
   "id": "46a5c3d6",
   "metadata": {},
   "outputs": [],
   "source": [
    "#Question 3: How many Employees are there per Job Title?\n",
    "employees = campus_df.groupby('Title').size().reset_index(name='NumberofEmployees').sort_values(by='NumberofEmployees', ascending=False).reset_index(drop=True)\n",
    "employees"
   ]
  },
  {
   "cell_type": "code",
   "execution_count": null,
   "id": "56ba020d",
   "metadata": {},
   "outputs": [],
   "source": [
    "#Question 3 Visual:\n",
    "top_20_titles = employees.head(25) #Change this number to show Top N\n",
    "plt.figure(figsize=(11, 6))\n",
    "bars = plt.barh(top_20_titles['Title'], top_20_titles['NumberofEmployees'], color='blue')\n",
    "for bar in bars:\n",
    "    plt.text(bar.get_width() + 1, bar.get_y() + bar.get_height() / 2, \n",
    "             f'{int(bar.get_width())}', \n",
    "             va='center', ha='left', fontsize=10)\n",
    "plt.xlabel('Number of Employees')\n",
    "plt.title('Top 20 Job Titles by Number of Employees')\n",
    "plt.gca().invert_yaxis()\n",
    "plt.gca().axes.get_xaxis().set_visible(False)\n",
    "plt.tight_layout()\n",
    "plt.show()"
   ]
  },
  {
   "cell_type": "code",
   "execution_count": null,
   "id": "93198a70",
   "metadata": {},
   "outputs": [],
   "source": [
    "#Question 4: How many Employees are there per Job Family?\n",
    "jobfam = campus_df.groupby('Job Family').size().reset_index(name='NumberofEmployees').sort_values(by='NumberofEmployees', ascending=False).reset_index(drop=True)\n",
    "jobfam"
   ]
  },
  {
   "cell_type": "code",
   "execution_count": null,
   "id": "b16b7595",
   "metadata": {},
   "outputs": [],
   "source": [
    "#Question 4 Visual:\n",
    "top_20_job_families = jobfam.head(25) #Change this number to show Top N\n",
    "plt.figure(figsize=(10, 6))\n",
    "bars = plt.barh(top_20_job_families['Job Family'], top_20_job_families['NumberofEmployees'], color='green')\n",
    "for bar in bars:\n",
    "    plt.text(bar.get_width() + 1, bar.get_y() + bar.get_height() / 2, \n",
    "             f'{int(bar.get_width())}', \n",
    "             va='center', ha='left', fontsize=10)\n",
    "plt.xlabel('Number of Employees')\n",
    "plt.title('Top 20 Job Families by Number of Employees')\n",
    "plt.gca().invert_yaxis()\n",
    "plt.gca().axes.get_xaxis().set_visible(False)\n",
    "plt.tight_layout()\n",
    "plt.show()"
   ]
  },
  {
   "cell_type": "code",
   "execution_count": null,
   "id": "42886c88",
   "metadata": {},
   "outputs": [],
   "source": [
    "#Question 5: How many Employees are there per Job Function (excluding the nulls)?\n",
    "jobfunc = campus_df.groupby('Job Function').size().reset_index(name='NumberofEmployees').sort_values(by='NumberofEmployees', ascending=False).reset_index(drop=True)\n",
    "jobfunc"
   ]
  },
  {
   "cell_type": "code",
   "execution_count": null,
   "id": "7dd464cb",
   "metadata": {},
   "outputs": [],
   "source": [
    "#Question 5 Visual:\n",
    "plt.figure(figsize=(12, 6))\n",
    "plt.bar(jobfunc['Job Function'], jobfunc['NumberofEmployees'], color='orange')\n",
    "plt.xlabel('Job Function')\n",
    "plt.ylabel('Number of Employees')\n",
    "plt.title('Job Functions by Number of Employees')\n",
    "plt.xticks(rotation=90)\n",
    "plt.tight_layout()\n",
    "plt.show()"
   ]
  },
  {
   "cell_type": "code",
   "execution_count": null,
   "id": "12af36af",
   "metadata": {},
   "outputs": [],
   "source": [
    "#Question 6: How many Employees are there per Parent Organization?\n",
    "parorg = campus_df.groupby('Parent Organization').size().reset_index(name='NumberofEmployees').sort_values(by='NumberofEmployees', ascending=False).reset_index(drop=True)\n",
    "parorg"
   ]
  },
  {
   "cell_type": "code",
   "execution_count": null,
   "id": "61582564",
   "metadata": {},
   "outputs": [],
   "source": [
    "#Question 6 Visual:\n",
    "top_20_parent_org = parorg.head(25) #Change this number to show Top N\n",
    "plt.figure(figsize=(12, 6))\n",
    "bars = plt.barh(top_20_parent_org['Parent Organization'], top_20_parent_org['NumberofEmployees'], color='red')\n",
    "for bar in bars:\n",
    "    plt.text(bar.get_width() + 1, bar.get_y() + bar.get_height() / 2, \n",
    "             f'{int(bar.get_width())}', \n",
    "             va='center', ha='left', fontsize=10)\n",
    "plt.xlabel('Number of Employees')\n",
    "plt.title('Parent Organizations by Number of Employees')\n",
    "plt.gca().invert_yaxis()\n",
    "plt.gca().axes.get_xaxis().set_visible(False)\n",
    "plt.tight_layout()\n",
    "plt.show()"
   ]
  },
  {
   "cell_type": "code",
   "execution_count": null,
   "id": "96bf8aa1",
   "metadata": {},
   "outputs": [],
   "source": [
    "#Question 7: How many Employees are there per Account Name?\n",
    "accountname = campus_df.groupby('Organization: Account Name').size().reset_index(name='NumberofEmployees').sort_values(by='NumberofEmployees', ascending=False).reset_index(drop=True)\n",
    "accountname"
   ]
  },
  {
   "cell_type": "code",
   "execution_count": null,
   "id": "30aac8ed",
   "metadata": {},
   "outputs": [],
   "source": [
    "#Question 7 Visual:\n",
    "top_25_result = accountname.head(25) #Change this number to show Top N\n",
    "plt.figure(figsize=(12, 6))\n",
    "bars = plt.barh(top_25_result['Organization: Account Name'], top_25_result['NumberofEmployees'], color='purple')\n",
    "for bar in bars:\n",
    "    plt.text(bar.get_width() + 1, bar.get_y() + bar.get_height() / 2, \n",
    "             f'{int(bar.get_width())}', \n",
    "             va='center', ha='left', fontsize=10)\n",
    "plt.xlabel('Number of Employees')\n",
    "plt.title('Top 25 Account Names by Number of Employees')\n",
    "plt.gca().invert_yaxis()\n",
    "plt.gca().axes.get_xaxis().set_visible(False)\n",
    "plt.tight_layout()\n",
    "plt.show()"
   ]
  },
  {
   "cell_type": "code",
   "execution_count": null,
   "id": "f4c7123f",
   "metadata": {},
   "outputs": [],
   "source": [
    "#Question 8: How many Employees are there per Profile Name (excluding the nulls)?\n",
    "profilename = campus_df.groupby('User: Profile: Name').size().reset_index(name='NumberofEmployees').sort_values(by='NumberofEmployees', ascending=False).reset_index(drop=True)\n",
    "profilename"
   ]
  },
  {
   "cell_type": "code",
   "execution_count": null,
   "id": "bb3617fb",
   "metadata": {},
   "outputs": [],
   "source": [
    "#Question 8 Visual:\n",
    "plt.figure(figsize=(12, 6))\n",
    "plt.bar(profilename['User: Profile: Name'], profilename['NumberofEmployees'], color='yellow')\n",
    "plt.xlabel('Profile Name')\n",
    "plt.ylabel('Number of Employees')\n",
    "plt.title('Profile Names by Number of Employees')\n",
    "plt.xticks(rotation=90)\n",
    "plt.tight_layout()\n",
    "plt.show()"
   ]
  },
  {
   "cell_type": "code",
   "execution_count": null,
   "id": "19a31675",
   "metadata": {},
   "outputs": [],
   "source": [
    "#Question 9: How many Employees are there per Role?\n",
    "role = campus_df.groupby('Role').size().reset_index(name='NumberofEmployees').sort_values(by='NumberofEmployees', ascending=False).reset_index(drop=True)\n",
    "role"
   ]
  },
  {
   "cell_type": "code",
   "execution_count": null,
   "id": "4940bc1c",
   "metadata": {},
   "outputs": [],
   "source": [
    "#Question 9 Visual:\n",
    "plt.figure(figsize=(12, 6))\n",
    "plt.bar(role['Role'], role['NumberofEmployees'], color='skyblue')\n",
    "plt.xlabel('Role')\n",
    "plt.ylabel('Number of Employees')\n",
    "plt.title('Roles by Number of Employees')\n",
    "plt.xticks(rotation=90)\n",
    "plt.tight_layout()\n",
    "plt.show()"
   ]
  },
  {
   "cell_type": "code",
   "execution_count": null,
   "id": "5fa9e1d8",
   "metadata": {},
   "outputs": [],
   "source": [
    "#Question 10: How many Employees Engaged with Whatfix and how many didn't?\n",
    "whatfixengagement = wf_df.groupby('Engaged with Whatfix?').size().reset_index(name='TotalEmployees').sort_values(by='TotalEmployees', ascending=False).reset_index(drop=True)\n",
    "whatfixengagement"
   ]
  },
  {
   "cell_type": "code",
   "execution_count": null,
   "id": "a44cc167",
   "metadata": {},
   "outputs": [],
   "source": [
    "#Question 10 Visual:\n",
    "plt.figure(figsize=(5, 5))\n",
    "plt.pie(whatfixengagement['TotalEmployees'], labels=whatfixengagement['Engaged with Whatfix?'], autopct='%1.1f%%', startangle=90, colors=['skyblue', 'lightcoral'])\n",
    "plt.title('Engagement with Whatfix by Total Employees')\n",
    "plt.axis('equal')\n",
    "plt.show()"
   ]
  },
  {
   "cell_type": "code",
   "execution_count": null,
   "id": "a4f83d65",
   "metadata": {},
   "outputs": [],
   "source": [
    "#Question 11: What are the top 10 users based on the Number of Engagements with Whatfix?\n",
    "top_10_engagements = wf_df[['User Name', 'Number of Engagements']].sort_values(by='Number of Engagements', ascending=False).head(10).reset_index(drop=True)\n",
    "top_10_engagements"
   ]
  },
  {
   "cell_type": "code",
   "execution_count": null,
   "id": "cc9835ec",
   "metadata": {},
   "outputs": [],
   "source": [
    "#Question 11 Visual:\n",
    "plt.figure(figsize=(7, 5))\n",
    "plt.barh(top_10_engagements['User Name'], top_10_engagements['Number of Engagements'], color='green')\n",
    "plt.xlabel('Number of Engagements')\n",
    "plt.ylabel('Email')\n",
    "plt.title('Top 10 Emails by Number of Engagements')\n",
    "plt.gca().invert_yaxis()\n",
    "plt.tight_layout()\n",
    "plt.show()"
   ]
  },
  {
   "cell_type": "code",
   "execution_count": null,
   "id": "5288b3af",
   "metadata": {},
   "outputs": [],
   "source": [
    "#Question 12: What are the Sum and Average Engagements (ex: total logins, total cases) by Role?\n",
    "agg_df = sep_df.groupby('UserRole.Name.x').agg(\n",
    "    sum_tot_logins=('tot_logins', 'sum'),\n",
    "    avg_tot_logins=('tot_logins', 'mean'),\n",
    "    sum_tot_cases=('tot_cases', 'sum'),\n",
    "    avg_tot_cases=('tot_cases', 'mean'),\n",
    "    sum_tot_case_details=('tot_case_details', 'sum'),\n",
    "    avg_tot_case_details=('tot_case_details', 'mean'),\n",
    "    sum_tot_events=('tot_events', 'sum'),\n",
    "    avg_tot_events=('tot_events', 'mean'),\n",
    "    sum_tot_campaigns=('tot_campaigns', 'sum'),\n",
    "    avg_tot_campaigns=('tot_campaigns', 'mean'),\n",
    "    sum_tot_case_updates=('tot_case_updates', 'sum'),\n",
    "    avg_tot_case_updates=('tot_case_updates', 'mean'),\n",
    "    sum_tot_appt=('tot_appt', 'sum'),\n",
    "    avg_tot_appt=('tot_appt', 'mean'),\n",
    "    sum_tot_avail=('tot_avail', 'sum'),\n",
    "    avg_tot_avail=('tot_avail', 'mean'),\n",
    "    sum_tot_act=('tot_act', 'sum'),\n",
    "    avg_tot_act=('tot_act', 'mean')\n",
    ").reset_index()\n",
    "\n",
    "agg_df = agg_df.round({\n",
    "    'avg_tot_logins': 0,\n",
    "    'avg_tot_cases': 0,\n",
    "    'avg_tot_case_details': 0,\n",
    "    'avg_tot_events': 0,\n",
    "    'avg_tot_campaigns': 0,\n",
    "    'avg_tot_case_updates': 0,\n",
    "    'avg_tot_appt': 0,\n",
    "    'avg_tot_avail': 0,\n",
    "    'avg_tot_act': 0\n",
    "})\n",
    "\n",
    "agg_df = agg_df.sort_values(by='sum_tot_logins', ascending=False).reset_index(drop=True)\n",
    "\n",
    "agg_df"
   ]
  },
  {
   "cell_type": "code",
   "execution_count": null,
   "id": "9d1abdb2",
   "metadata": {},
   "outputs": [],
   "source": [
    "#Question 12 VisuaL:\n",
    "top_n = 10  # Change this to the desired number of top roles\n",
    "\n",
    "metrics = [\n",
    "    ('sum_tot_logins', 'Total Logins'),\n",
    "    ('avg_tot_logins', 'Average Logins'),\n",
    "    ('sum_tot_cases', 'Total Cases'),\n",
    "    ('avg_tot_cases', 'Average Cases'),\n",
    "    ('sum_tot_case_details', 'Total Case Details'),\n",
    "    ('avg_tot_case_details', 'Average Case Details'),\n",
    "    ('sum_tot_events', 'Total Events'),\n",
    "    ('avg_tot_events', 'Average Events'),\n",
    "    ('sum_tot_campaigns', 'Total Campaigns'),\n",
    "    ('avg_tot_campaigns', 'Average Campaigns'),\n",
    "    ('sum_tot_case_updates', 'Total Case Updates'),\n",
    "    ('avg_tot_case_updates', 'Average Case Updates'),\n",
    "    ('sum_tot_appt', 'Total Appointments'),\n",
    "    ('avg_tot_appt', 'Average Appointments'),\n",
    "    ('sum_tot_avail', 'Total Availability'),\n",
    "    ('avg_tot_avail', 'Average Availability'),\n",
    "    ('sum_tot_act', 'Total Activities'),\n",
    "    ('avg_tot_act', 'Average Activities')\n",
    "]\n",
    "\n",
    "fig, axes = plt.subplots(nrows=6, ncols=3, figsize=(18, 18))\n",
    "axes = axes.flatten()\n",
    "\n",
    "for i, (metric, title) in enumerate(metrics):\n",
    "    top_roles = agg_df.sort_values(by=metric, ascending=False).head(top_n)\n",
    "\n",
    "    sns.barplot(x=top_roles[metric], y=top_roles['UserRole.Name.x'], ax=axes[i], palette='viridis')\n",
    "\n",
    "    axes[i].set_title(f'Top {top_n} User Roles by {title}')\n",
    "    axes[i].set_xlabel(title)\n",
    "    axes[i].set_ylabel('')\n",
    "\n",
    "plt.tight_layout()\n",
    "plt.show()"
   ]
  }
 ],
 "metadata": {
  "kernelspec": {
   "display_name": "Python 3 (ipykernel)",
   "language": "python",
   "name": "python3"
  },
  "language_info": {
   "codemirror_mode": {
    "name": "ipython",
    "version": 3
   },
   "file_extension": ".py",
   "mimetype": "text/x-python",
   "name": "python",
   "nbconvert_exporter": "python",
   "pygments_lexer": "ipython3",
   "version": "3.11.5"
  }
 },
 "nbformat": 4,
 "nbformat_minor": 5
}
