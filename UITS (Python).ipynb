{
 "cells": [
  {
   "cell_type": "code",
   "execution_count": null,
   "id": "4cdfa63d",
   "metadata": {},
   "outputs": [],
   "source": [
    "import pandas as pd\n",
    "import matplotlib.pyplot as plt"
   ]
  },
  {
   "cell_type": "code",
   "execution_count": null,
   "id": "d1206aba",
   "metadata": {},
   "outputs": [],
   "source": [
    "uits_df = pd.read_csv(r\"C:\\Users\\shiha\\Downloads\\Projects\\Work Projects\\ITJob_projects\\UITS\\UITS.csv\", encoding = 'ISO-8859-1')\n",
    "pd.set_option('display.max.rows', None)\n",
    "pd.set_option('display.max.columns', None)\n",
    "uits_df"
   ]
  },
  {
   "cell_type": "markdown",
   "id": "a757d3a6",
   "metadata": {},
   "source": [
    "### Step 1: Data Cleaning Phase"
   ]
  },
  {
   "cell_type": "code",
   "execution_count": null,
   "id": "d17c8c62",
   "metadata": {},
   "outputs": [],
   "source": [
    "#1a: Checking general info\n",
    "uits_df.info()"
   ]
  },
  {
   "cell_type": "code",
   "execution_count": null,
   "id": "9cb23664",
   "metadata": {},
   "outputs": [],
   "source": [
    "#1b: Changing data type for Date column\n",
    "uits_df['Opened'] = pd.to_datetime(uits_df['Opened'])"
   ]
  },
  {
   "cell_type": "markdown",
   "id": "4e2643df",
   "metadata": {},
   "source": [
    "### Step 2: Data Analysis Phase"
   ]
  },
  {
   "cell_type": "code",
   "execution_count": null,
   "id": "84915d26",
   "metadata": {},
   "outputs": [],
   "source": [
    "#Question 1: How many IT support tickets are there in each State (closed, canceled, etc)?\n",
    "state_counts = uits_df.groupby('State').size().reset_index(name='Total')\n",
    "state_counts = state_counts.sort_values(by='Total', ascending=False).reset_index(drop=True)\n",
    "state_counts"
   ]
  },
  {
   "cell_type": "code",
   "execution_count": null,
   "id": "4257e2ce",
   "metadata": {},
   "outputs": [],
   "source": [
    "#Question 1 Visual:\n",
    "plt.figure(figsize=(10, 6))\n",
    "plt.bar(state_counts['State'], state_counts['Total'], color='skyblue')\n",
    "plt.title('Total IT Support Records by State')\n",
    "plt.xlabel('State')\n",
    "plt.ylabel('Total Count')\n",
    "plt.xticks(rotation=45)\n",
    "plt.grid(axis='y', linestyle='--', alpha=0.7)\n",
    "plt.tight_layout()\n",
    "plt.show()"
   ]
  },
  {
   "cell_type": "code",
   "execution_count": null,
   "id": "0c404da7",
   "metadata": {},
   "outputs": [],
   "source": [
    "#Question 2: How many IT support tickets are there in each Assignment Group?\n",
    "group_counts = uits_df.groupby('Assignment Group').size().reset_index(name='Total')\n",
    "group_counts = group_counts.sort_values(by='Total', ascending=False).reset_index(drop=True)\n",
    "group_counts"
   ]
  },
  {
   "cell_type": "code",
   "execution_count": null,
   "id": "a1b8a8e1",
   "metadata": {},
   "outputs": [],
   "source": [
    "#Question 2 Visual:\n",
    "plt.figure(figsize=(12, 10))\n",
    "plt.bar(group_counts['Assignment Group'], group_counts['Total'], color='teal')\n",
    "plt.title('Total IT Support Records by Assignment Group')\n",
    "plt.xlabel('Assignment Group')\n",
    "plt.ylabel('Total Count')\n",
    "plt.xticks(rotation=45, ha='right')\n",
    "plt.grid(axis='y', linestyle='--', alpha=0.7)\n",
    "plt.yticks(fontsize=10)\n",
    "plt.xticks(fontsize=7)\n",
    "plt.tight_layout()\n",
    "plt.show()"
   ]
  },
  {
   "cell_type": "code",
   "execution_count": null,
   "id": "fc2520e0",
   "metadata": {},
   "outputs": [],
   "source": [
    "#Question 3: How many IT support tickets are from the UITS Assignment Group, either Closed or Canceled, \n",
    "#and have over 100 cases?\n",
    "filtered_df = uits_df[\n",
    "    (uits_df['Assignment Group'].str.contains('UITS', case=False, na=False)) & \n",
    "    (uits_df['State'].isin(['Closed', 'Canceled']))\n",
    "]\n",
    "grouped_counts = filtered_df.groupby(['State', 'Assignment Group']).size().reset_index(name='Total')\n",
    "grouped_counts = grouped_counts[grouped_counts['Total'] > 100]\n",
    "grouped_counts = grouped_counts.sort_values(by='Total', ascending=False).reset_index(drop=True)\n",
    "grouped_counts"
   ]
  },
  {
   "cell_type": "code",
   "execution_count": null,
   "id": "06d02e01",
   "metadata": {},
   "outputs": [],
   "source": [
    "#Question 3:\n",
    "plt.figure(figsize=(12, 8))\n",
    "plt.bar(grouped_counts['Assignment Group'] + ' (' + grouped_counts['State'] + ')', \n",
    "        grouped_counts['Total'], color='purple')\n",
    "plt.title('Total Records for UITS Assignment Groups by State')\n",
    "plt.xlabel('Assignment Group (State)')\n",
    "plt.ylabel('Total Count')\n",
    "plt.xticks(rotation=75, ha='right', fontsize=10)\n",
    "plt.grid(axis='y', linestyle='--', alpha=0.7)\n",
    "plt.tight_layout()\n",
    "plt.show()"
   ]
  },
  {
   "cell_type": "code",
   "execution_count": null,
   "id": "5450616e",
   "metadata": {},
   "outputs": [],
   "source": [
    "#Question 4: What are the most common (4+) reasons a case was opened?\n",
    "description_counts = uits_df.groupby('Short Description').size().reset_index(name='Total')\n",
    "description_counts = description_counts[description_counts['Total'] >= 4]\n",
    "description_counts = description_counts.sort_values(by='Total', ascending=False).reset_index(drop=True)\n",
    "description_counts"
   ]
  },
  {
   "cell_type": "code",
   "execution_count": null,
   "id": "3a004658",
   "metadata": {},
   "outputs": [],
   "source": [
    "#Question 5: What's the distribution of the Unit Groupings?\n",
    "unit_counts = uits_df.groupby('Unit Grouping').size().reset_index(name='Total')\n",
    "unit_counts = unit_counts.sort_values(by='Total', ascending=False).reset_index(drop=True)\n",
    "unit_counts"
   ]
  },
  {
   "cell_type": "code",
   "execution_count": null,
   "id": "c1fe4f35",
   "metadata": {},
   "outputs": [],
   "source": [
    "#Question 5 Visual:\n",
    "plt.figure(figsize=(12, 8))\n",
    "plt.bar(unit_counts['Unit Grouping'], unit_counts['Total'], color='lightblue')\n",
    "plt.title('Total Records by Unit Grouping')\n",
    "plt.xlabel('Unit Grouping')\n",
    "plt.ylabel('Total Count')\n",
    "plt.xticks(rotation=75, ha='right', fontsize=10)\n",
    "plt.grid(axis='y', linestyle='--', alpha=0.7)\n",
    "plt.tight_layout()\n",
    "plt.show()"
   ]
  },
  {
   "cell_type": "code",
   "execution_count": null,
   "id": "c8aeffac",
   "metadata": {},
   "outputs": [],
   "source": [
    "#Question 6: How many cases were assigned to each customer support representative?\n",
    "assigned_counts = uits_df.groupby('Assigned To').size().reset_index(name='Total')\n",
    "assigned_counts = assigned_counts.sort_values(by='Total', ascending=False).reset_index(drop=True)\n",
    "assigned_counts"
   ]
  },
  {
   "cell_type": "code",
   "execution_count": null,
   "id": "ad9becfb",
   "metadata": {},
   "outputs": [],
   "source": [
    "#Question 6 Visual: \n",
    "assigned_counts = assigned_counts.sort_values(by='Total', ascending=False)\n",
    "top_n = int(input(\"Enter the number of top records to display (e.g., 10, 20): \"))\n",
    "top_assigned_counts = assigned_counts.head(top_n)\n",
    "plt.figure(figsize=(12, 8))\n",
    "plt.bar(top_assigned_counts['Assigned To'], top_assigned_counts['Total'], color='lightgreen')\n",
    "plt.title(f'Total Records Assigned to Each User (Top {top_n})')\n",
    "plt.xlabel('Assigned To')\n",
    "plt.ylabel('Total Count')\n",
    "plt.xticks(rotation=75, ha='right', fontsize=10)\n",
    "plt.grid(axis='y', linestyle='--', alpha=0.7)\n",
    "plt.tight_layout()\n",
    "plt.show()"
   ]
  },
  {
   "cell_type": "code",
   "execution_count": null,
   "id": "eb0ffa3f",
   "metadata": {},
   "outputs": [],
   "source": [
    "#Question 7: When did the most IT support cases occur?\n",
    "date_counts = uits_df.groupby('Opened').size().reset_index(name='Total')\n",
    "date_counts = date_counts.sort_values(by='Total', ascending=False).reset_index(drop=True)\n",
    "date_counts"
   ]
  },
  {
   "cell_type": "code",
   "execution_count": null,
   "id": "62510ad1",
   "metadata": {},
   "outputs": [],
   "source": [
    "#Question 7 Visual:\n",
    "plt.figure(figsize=(11, 6))\n",
    "plt.bar(date_counts['Opened'].astype(str), date_counts['Total'], color='lightcoral')\n",
    "plt.title('Total Records by Date Opened')\n",
    "plt.xlabel('DateOpened')\n",
    "plt.ylabel('Total Count')\n",
    "plt.xticks(rotation=75, ha='right', fontsize=10)\n",
    "plt.grid(axis='y', linestyle='--', alpha=0.7)\n",
    "plt.tight_layout()\n",
    "plt.show()"
   ]
  },
  {
   "cell_type": "code",
   "execution_count": null,
   "id": "2f658e74",
   "metadata": {},
   "outputs": [],
   "source": [
    "#Question 8: How many cases did each Manager manage?\n",
    "manager_counts = uits_df.groupby('Manager').size().reset_index(name='Total')\n",
    "manager_counts = manager_counts.sort_values(by='Total', ascending=False).reset_index(drop=True)\n",
    "manager_counts"
   ]
  },
  {
   "cell_type": "code",
   "execution_count": null,
   "id": "d7fe0a10",
   "metadata": {},
   "outputs": [],
   "source": [
    "#Question 8 Visual:\n",
    "plt.figure(figsize=(12, 8))\n",
    "plt.bar(manager_counts['Manager'], manager_counts['Total'], color='blue')\n",
    "plt.title('Total Records by Manager')\n",
    "plt.xlabel('Manager')\n",
    "plt.ylabel('Total Count')\n",
    "plt.xticks(rotation=75, ha='right', fontsize=10)\n",
    "plt.grid(axis='y', linestyle='--', alpha=0.7)\n",
    "plt.tight_layout()\n",
    "plt.show()"
   ]
  },
  {
   "cell_type": "code",
   "execution_count": null,
   "id": "4e68ead8",
   "metadata": {},
   "outputs": [],
   "source": [
    "#Question 9: What's the distribution of Navigators for all the cases that have a Navigator?\n",
    "navigator_count = uits_df.groupby('Navigator').size().reset_index(name='Total')\n",
    "navigator_count_sorted = navigator_count.sort_values(by='Total', ascending=False).reset_index(drop=True)\n",
    "navigator_count_sorted"
   ]
  },
  {
   "cell_type": "code",
   "execution_count": null,
   "id": "fac4fd80",
   "metadata": {},
   "outputs": [],
   "source": [
    "#Question 9 Visual:\n",
    "plt.figure(figsize=(6, 6))\n",
    "plt.pie(navigator_count_sorted['Total'], labels=navigator_count_sorted['Navigator'], \n",
    "        autopct='%1.1f%%', startangle=90, colors=plt.cm.Paired.colors)\n",
    "plt.title('Navigator Distribution')\n",
    "plt.show()"
   ]
  },
  {
   "cell_type": "code",
   "execution_count": null,
   "id": "1e40b265",
   "metadata": {},
   "outputs": [],
   "source": [
    "#Question 10: What's the distribution of each Task Type?\n",
    "tasktype_count = uits_df.groupby('Task Type').size().reset_index(name='Total')\n",
    "tasktype_count_sorted = tasktype_count.sort_values(by='Total', ascending=False).reset_index(drop=True)\n",
    "tasktype_count_sorted"
   ]
  },
  {
   "cell_type": "code",
   "execution_count": null,
   "id": "973ed808",
   "metadata": {},
   "outputs": [],
   "source": [
    "#Question 10 Visual:\n",
    "plt.figure(figsize=(8, 5))\n",
    "plt.bar(tasktype_count_sorted['Task Type'], tasktype_count_sorted['Total'], color='darkblue')\n",
    "plt.title('Task Type Distribution', fontsize=14)\n",
    "plt.xlabel('Task Type', fontsize=12)\n",
    "plt.ylabel('Total Count', fontsize=12)\n",
    "plt.xticks(rotation=45, ha='right')\n",
    "plt.show()"
   ]
  },
  {
   "cell_type": "code",
   "execution_count": null,
   "id": "b367b06b",
   "metadata": {},
   "outputs": [],
   "source": [
    "#Question 11: What's the count of cases for each State and Task Type?\n",
    "state_tasktype_count = uits_df.groupby(['State', 'Task Type']).size().reset_index(name='Total')\n",
    "state_tasktype_count_sorted = state_tasktype_count.sort_values(by='Total', ascending=False).reset_index(drop=True)\n",
    "state_tasktype_count_sorted"
   ]
  },
  {
   "cell_type": "code",
   "execution_count": null,
   "id": "676e6b49",
   "metadata": {},
   "outputs": [],
   "source": [
    "#Question 11 Visual:\n",
    "state_tasktype_count = uits_df.groupby(['State', 'Task Type']).size().reset_index(name='Total')\n",
    "pivot_table = state_tasktype_count.pivot(index='State', columns='Task Type', values='Total').fillna(0)\n",
    "pivot_table['Total_Sum'] = pivot_table.sum(axis=1)\n",
    "pivot_table_sorted = pivot_table.sort_values(by='Total_Sum', ascending=False)\n",
    "pivot_table_sorted = pivot_table_sorted.drop(columns='Total_Sum')\n",
    "pivot_table_sorted.plot(kind='bar', stacked=True, figsize=(10, 6), colormap='Paired')\n",
    "plt.title('Task Type Distribution by State', fontsize=14)\n",
    "plt.xlabel('State', fontsize=12)\n",
    "plt.ylabel('Total Count', fontsize=12)\n",
    "plt.xticks(rotation=45, ha='right')\n",
    "plt.show()"
   ]
  },
  {
   "cell_type": "code",
   "execution_count": null,
   "id": "27206fa5",
   "metadata": {},
   "outputs": [],
   "source": [
    "#Question 12: What are the total cases by Employee and State, with only employees with 20 or more cases shown?\n",
    "assigned_to_state_count = uits_df.groupby(['Assigned To', 'State']).size().reset_index(name='Total')\n",
    "assigned_to_state_filtered = assigned_to_state_count[assigned_to_state_count['Total'] >= 20]\n",
    "assigned_to_state_sorted = assigned_to_state_filtered.sort_values(by='Total', ascending=False).reset_index(drop=True)\n",
    "assigned_to_state_sorted"
   ]
  },
  {
   "cell_type": "code",
   "execution_count": null,
   "id": "04ba4c97",
   "metadata": {},
   "outputs": [],
   "source": [
    "#Question 12 Visual:\n",
    "pivot_table = assigned_to_state_sorted.pivot(index='Assigned To', columns='State', values='Total').fillna(0)\n",
    "pivot_table['Total_Sum'] = pivot_table.sum(axis=1)  # Sum the counts across states\n",
    "pivot_table_sorted = pivot_table.sort_values(by='Total_Sum', ascending=False)\n",
    "pivot_table_sorted = pivot_table_sorted.drop(columns='Total_Sum')\n",
    "pivot_table_sorted.plot(kind='bar', stacked=True, figsize=(10, 6), colormap='Set3')\n",
    "plt.title('Assigned To and State Distribution (Total >= 20)', fontsize=14)\n",
    "plt.xlabel('Assigned To', fontsize=12)\n",
    "plt.ylabel('Total Count', fontsize=12)\n",
    "plt.xticks(rotation=45, ha='right', fontsize=8)\n",
    "plt.show()"
   ]
  }
 ],
 "metadata": {
  "kernelspec": {
   "display_name": "Python 3 (ipykernel)",
   "language": "python",
   "name": "python3"
  },
  "language_info": {
   "codemirror_mode": {
    "name": "ipython",
    "version": 3
   },
   "file_extension": ".py",
   "mimetype": "text/x-python",
   "name": "python",
   "nbconvert_exporter": "python",
   "pygments_lexer": "ipython3",
   "version": "3.11.5"
  }
 },
 "nbformat": 4,
 "nbformat_minor": 5
}
