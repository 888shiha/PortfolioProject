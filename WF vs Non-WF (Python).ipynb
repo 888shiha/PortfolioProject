{
 "cells": [
  {
   "cell_type": "code",
   "execution_count": null,
   "id": "b2ddcfc2",
   "metadata": {},
   "outputs": [],
   "source": [
    "import pandas as pd\n",
    "import matplotlib.pyplot as plt\n",
    "import seaborn as sns"
   ]
  },
  {
   "cell_type": "code",
   "execution_count": null,
   "id": "fc154053",
   "metadata": {},
   "outputs": [],
   "source": [
    "sf_df = pd.read_csv(r'C:\\Users\\shiha\\Downloads\\Projects\\Work Projects\\ITJob_projects\\WhatFix Usage\\SF_Users.csv')\n",
    "sf_df"
   ]
  },
  {
   "cell_type": "code",
   "execution_count": null,
   "id": "91127772",
   "metadata": {},
   "outputs": [],
   "source": [
    "wf_df = pd.read_csv(r'C:\\Users\\shiha\\Downloads\\Projects\\Work Projects\\ITJob_projects\\WhatFix Usage\\WhatfixUsers.csv')\n",
    "wf_df"
   ]
  },
  {
   "cell_type": "markdown",
   "id": "6e22418e",
   "metadata": {},
   "source": [
    "### Step 1: Data Cleaning Phase"
   ]
  },
  {
   "cell_type": "code",
   "execution_count": null,
   "id": "f8442dac",
   "metadata": {},
   "outputs": [],
   "source": [
    "#1a: Checking general info\n",
    "sf_df.info()\n",
    "wf_df.info()"
   ]
  },
  {
   "cell_type": "code",
   "execution_count": null,
   "id": "54976689",
   "metadata": {},
   "outputs": [],
   "source": [
    "#1b: Changing 'Created Date' to Date\n",
    "sf_df['Created Date'] = pd.to_datetime(sf_df['Created Date'])"
   ]
  },
  {
   "cell_type": "markdown",
   "id": "5b829490",
   "metadata": {},
   "source": [
    "### Step 2: Data Analysis Phase"
   ]
  },
  {
   "cell_type": "code",
   "execution_count": null,
   "id": "255c6f16",
   "metadata": {},
   "outputs": [],
   "source": [
    "#Question 1: What's the number of employees who are Non-Whatfix Users vs Whatfix Users?\n",
    "usertype = sf_df.groupby('Whatfix User?').size().reset_index(name='Total Employees')\n",
    "usertype"
   ]
  },
  {
   "cell_type": "code",
   "execution_count": null,
   "id": "ba6a950f",
   "metadata": {},
   "outputs": [],
   "source": [
    "#Question 1 Visual:\n",
    "usertype = sf_df.groupby('Whatfix User?').size().reset_index(name='Total Employees')\n",
    "plt.figure(figsize=(5, 5))\n",
    "plt.pie(\n",
    "    usertype['Total Employees'], \n",
    "    labels=usertype['Whatfix User?'], \n",
    "    autopct='%1.1f%%', \n",
    "    startangle=90, \n",
    "    wedgeprops={'edgecolor': 'black'}\n",
    ")\n",
    "plt.title('Distribution of Employees by User Type')\n",
    "plt.axis('equal')\n",
    "plt.show()"
   ]
  },
  {
   "cell_type": "code",
   "execution_count": null,
   "id": "81fd7247",
   "metadata": {},
   "outputs": [],
   "source": [
    "#Question 2: What's the breakdown of Departments by Whatfix vs Non-Whatfix Users, and their respective percentages?\n",
    "pd.set_option('display.max.rows', None)\n",
    "dep = sf_df.groupby(['Whatfix User?', 'Primary Department: Account Name']).size().reset_index(name='Total')\n",
    "dep['Percent'] = dep['Total'] / dep.groupby('Primary Department: Account Name')['Total'].transform('sum') * 100\n",
    "dep['Percent'] = dep['Percent'].round(1)\n",
    "dep = dep.sort_values(['Primary Department: Account Name', 'Total'], ascending=[True, False]).reset_index(drop=True)\n",
    "dep"
   ]
  },
  {
   "cell_type": "code",
   "execution_count": null,
   "id": "0b8c2561",
   "metadata": {},
   "outputs": [],
   "source": [
    "#Question 2 Visuals: The top bar graph shows the Total Values while the bottom one shows the percentages.\n",
    "#You can also adjust the number of bars displayed to see Top N. (All this info applies to the next couple visuals!)\n",
    "dep = sf_df.groupby(['Whatfix User?', 'Primary Department: Account Name']).size().reset_index(name='Total')\n",
    "dep['Percent'] = dep['Total'] / dep.groupby('Primary Department: Account Name')['Total'].transform('sum') * 100\n",
    "dep['Percent'] = dep['Percent'].round(1)\n",
    "dep = dep.sort_values(['Primary Department: Account Name', 'Total'], ascending=[True, False]).reset_index(drop=True)\n",
    "pivot_df_total = dep.pivot(index='Primary Department: Account Name', columns='Whatfix User?', values='Total').fillna(0)\n",
    "pivot_df_total['Total Count'] = pivot_df_total.sum(axis=1)\n",
    "top_n = 20  # Adjust as needed\n",
    "pivot_df_total_top = pivot_df_total.sort_values('Total Count', ascending=False).head(top_n)\n",
    "sorted_index = pivot_df_total_top.index\n",
    "pivot_df_total_top = pivot_df_total_top.drop(columns='Total Count')\n",
    "pivot_df_percent = dep.pivot(index='Primary Department: Account Name', columns='Whatfix User?', values='Percent').fillna(0)\n",
    "pivot_df_percent_top = pivot_df_percent.loc[sorted_index]\n",
    "\n",
    "fig, ax1 = plt.subplots(figsize=(12, 6))\n",
    "pivot_df_total_top.plot(kind='bar', stacked=True, ax=ax1, color=['#1f77b4', '#ff7f0e'])\n",
    "ax1.set_title(f'Top {top_n} Departments by Whatfix Users (Total)')\n",
    "ax1.set_xlabel('Primary Department: Account Name')\n",
    "ax1.set_xticklabels(ax1.get_xticklabels(), rotation=45, ha='right')\n",
    "ax1.legend(title='Whatfix User?')\n",
    "ax1.yaxis.set_visible(False)\n",
    "for container in ax1.containers:\n",
    "    ax1.bar_label(container, label_type='center', fontsize=10, color='black')\n",
    "\n",
    "fig, ax2 = plt.subplots(figsize=(12, 6))\n",
    "pivot_df_percent_top.plot(kind='bar', stacked=True, ax=ax2, color=['#1f77b4', '#ff7f0e'])\n",
    "ax2.set_title(f'Top {top_n} Departments by Whatfix User Percentage')\n",
    "ax2.set_xlabel('Primary Department: Account Name')\n",
    "ax2.set_xticklabels(ax2.get_xticklabels(), rotation=45, ha='right')\n",
    "ax2.legend(title='Whatfix User?')\n",
    "ax2.yaxis.set_visible(False)\n",
    "for container in ax2.containers:\n",
    "    ax2.bar_label(container, labels=[f'{val:.1f}%' if val > 0 else '' for val in container.datavalues], label_type='center', fontsize=7, color='black')\n",
    "plt.tight_layout()\n",
    "plt.show()"
   ]
  },
  {
   "cell_type": "code",
   "execution_count": null,
   "id": "07c3a800",
   "metadata": {},
   "outputs": [],
   "source": [
    "#Question 3: What's the breakdown of Profile Names by Whatfix vs Non-Whatfix Users, and their respective percentages?\n",
    "profile = sf_df.groupby(['Whatfix User?', 'User: Profile: Name']).size().reset_index(name='Total')\n",
    "profile['Percent'] = (profile['Total'] / profile.groupby('User: Profile: Name')['Total'].transform('sum')) * 100\n",
    "profile['Percent'] = profile['Percent'].round(1)\n",
    "profile = profile.sort_values(['User: Profile: Name', 'Whatfix User?'], ascending=[True, False]).reset_index(drop=True)\n",
    "profile"
   ]
  },
  {
   "cell_type": "code",
   "execution_count": null,
   "id": "16774c6d",
   "metadata": {},
   "outputs": [],
   "source": [
    "#Question 3 Visuals: \n",
    "profile = sf_df.groupby(['Whatfix User?', 'User: Profile: Name']).size().reset_index(name='Total')\n",
    "profile['Percent'] = (profile['Total'] / profile.groupby('User: Profile: Name')['Total'].transform('sum')) * 100\n",
    "profile['Percent'] = profile['Percent'].round(1)\n",
    "profile = profile.sort_values(['User: Profile: Name', 'Total'], ascending=[True, False]).reset_index(drop=True)\n",
    "pivot_df_total = profile.pivot(index='User: Profile: Name', columns='Whatfix User?', values='Total').fillna(0)\n",
    "pivot_df_total['Total Count'] = pivot_df_total.sum(axis=1)\n",
    "top_n = 10\n",
    "pivot_df_total_top = pivot_df_total.sort_values('Total Count', ascending=False).head(top_n)\n",
    "sorted_index = pivot_df_total_top.index\n",
    "pivot_df_total_top = pivot_df_total_top.drop(columns='Total Count')\n",
    "pivot_df_percent = profile.pivot(index='User: Profile: Name', columns='Whatfix User?', values='Percent').fillna(0)\n",
    "pivot_df_percent_top = pivot_df_percent.loc[sorted_index]\n",
    "colors = ['#8a2be2', '#ff6347']\n",
    "\n",
    "fig, ax1 = plt.subplots(figsize=(12, 6))\n",
    "pivot_df_total_top.plot(kind='bar', stacked=True, ax=ax1, color=colors)\n",
    "ax1.set_title(f'Top {top_n} Profiles by Whatfix Users (Total)')\n",
    "ax1.set_xlabel('User: Profile: Name')\n",
    "ax1.set_xticklabels(ax1.get_xticklabels(), rotation=45, ha='right')\n",
    "ax1.legend(title='Whatfix User?')\n",
    "ax1.yaxis.set_visible(False)\n",
    "for container in ax1.containers:\n",
    "    ax1.bar_label(container, label_type='center', fontsize=10, color='black')\n",
    "\n",
    "fig, ax2 = plt.subplots(figsize=(12, 6))\n",
    "pivot_df_percent_top.plot(kind='bar', stacked=True, ax=ax2, color=colors)\n",
    "ax2.set_title(f'Top {top_n} Profiles by Whatfix User Percentage')\n",
    "ax2.set_xlabel('User: Profile: Name')\n",
    "ax2.set_xticklabels(ax2.get_xticklabels(), rotation=45, ha='right')\n",
    "ax2.legend(title='Whatfix User?')\n",
    "ax2.yaxis.set_visible(False)\n",
    "for container in ax2.containers:\n",
    "    ax2.bar_label(container, labels=[f'{val:.1f}%' if val > 0 else '' for val in container.datavalues], label_type='center', fontsize=10, color='black')\n",
    "plt.tight_layout()\n",
    "plt.show()"
   ]
  },
  {
   "cell_type": "code",
   "execution_count": null,
   "id": "a0918fc2",
   "metadata": {},
   "outputs": [],
   "source": [
    "#Question 4: What's the breakdown of Parent Organization by Whatfix vs Non-Whatfix Users, and their respective percentages?\n",
    "parorg = sf_df.groupby(['Whatfix User?', 'Parent Organization']).size().reset_index(name='Total')\n",
    "parorg['Percent'] = (parorg['Total'] / parorg.groupby('Parent Organization')['Total'].transform('sum')) * 100\n",
    "parorg['Percent'] = parorg['Percent'].round(1)\n",
    "parorg = parorg.sort_values(['Parent Organization', 'Whatfix User?'], ascending=[True, False]).reset_index(drop=True)\n",
    "parorg"
   ]
  },
  {
   "cell_type": "code",
   "execution_count": null,
   "id": "c9ae1b3c",
   "metadata": {},
   "outputs": [],
   "source": [
    "#Question 4 Visuals:\n",
    "parorg = sf_df.groupby(['Whatfix User?', 'Parent Organization']).size().reset_index(name='Total')\n",
    "parorg['Percent'] = (parorg['Total'] / parorg.groupby('Parent Organization')['Total'].transform('sum')) * 100\n",
    "parorg['Percent'] = parorg['Percent'].round(1)\n",
    "parorg = parorg.sort_values(['Parent Organization', 'Total'], ascending=[True, False]).reset_index(drop=True)\n",
    "pivot_df_total = parorg.pivot(index='Parent Organization', columns='Whatfix User?', values='Total').fillna(0)\n",
    "pivot_df_total['Total Count'] = pivot_df_total.sum(axis=1)\n",
    "top_n = 10 # Adjust as needed\n",
    "pivot_df_total_top = pivot_df_total.sort_values('Total Count', ascending=False).head(top_n)\n",
    "sorted_index = pivot_df_total_top.index\n",
    "pivot_df_total_top = pivot_df_total_top.drop(columns='Total Count')\n",
    "pivot_df_percent = parorg.pivot(index='Parent Organization', columns='Whatfix User?', values='Percent').fillna(0)\n",
    "pivot_df_percent_top = pivot_df_percent.loc[sorted_index]\n",
    "colors = ['#32cd32', '#1e90ff']\n",
    "\n",
    "fig, ax1 = plt.subplots(figsize=(12, 6))\n",
    "pivot_df_total_top.plot(kind='bar', stacked=True, ax=ax1, color=colors)\n",
    "ax1.set_title(f'Top {top_n} Parent Organizations by Whatfix Users (Total)')\n",
    "ax1.set_xlabel('Parent Organization')\n",
    "ax1.set_xticklabels(ax1.get_xticklabels(), rotation=45, ha='right')\n",
    "ax1.legend(title='Whatfix User?')\n",
    "ax1.yaxis.set_visible(False)\n",
    "for container in ax1.containers:\n",
    "    ax1.bar_label(container, label_type='center', fontsize=10, color='black')\n",
    "\n",
    "fig, ax2 = plt.subplots(figsize=(12, 6))\n",
    "pivot_df_percent_top.plot(kind='bar', stacked=True, ax=ax2, color=colors)\n",
    "ax2.set_title(f'Top {top_n} Parent Organizations by Whatfix User Percentage')\n",
    "ax2.set_xlabel('Parent Organization')\n",
    "ax2.set_xticklabels(ax2.get_xticklabels(), rotation=45, ha='right')\n",
    "ax2.legend(title='Whatfix User?')\n",
    "ax2.yaxis.set_visible(False)\n",
    "for container in ax2.containers:\n",
    "    ax2.bar_label(container, labels=[f'{val:.1f}%' if val > 0 else '' for val in container.datavalues], label_type='center', fontsize=8, color='black')\n",
    "plt.tight_layout()\n",
    "plt.show()"
   ]
  },
  {
   "cell_type": "code",
   "execution_count": null,
   "id": "50b89913",
   "metadata": {},
   "outputs": [],
   "source": [
    "#Question 5: What's the breakdown of EDS Primary Affiliation by Whatfix vs Non-Whatfix Users, and their respective percentages?\n",
    "eds = sf_df.groupby(['Whatfix User?', 'EDS Primary Affiliation']).size().reset_index(name='Total')\n",
    "eds['Percent'] = (eds['Total'] / eds.groupby('EDS Primary Affiliation')['Total'].transform('sum')) * 100\n",
    "eds['Percent'] = eds['Percent'].round(1)\n",
    "eds = eds.sort_values(['EDS Primary Affiliation', 'Whatfix User?'], ascending=[True, False]).reset_index(drop=True)\n",
    "eds"
   ]
  },
  {
   "cell_type": "code",
   "execution_count": null,
   "id": "d60fa5b2",
   "metadata": {},
   "outputs": [],
   "source": [
    "#Question 5 Visuals:\n",
    "eds = sf_df.groupby(['Whatfix User?', 'EDS Primary Affiliation']).size().reset_index(name='Total')\n",
    "eds['Percent'] = (eds['Total'] / eds.groupby('EDS Primary Affiliation')['Total'].transform('sum')) * 100\n",
    "eds['Percent'] = eds['Percent'].round(1)\n",
    "eds = eds.sort_values(['EDS Primary Affiliation', 'Total'], ascending=[True, False]).reset_index(drop=True)\n",
    "pivot_df_total = eds.pivot(index='EDS Primary Affiliation', columns='Whatfix User?', values='Total').fillna(0)\n",
    "pivot_df_total['Total Count'] = pivot_df_total.sum(axis=1)\n",
    "top_n = 10\n",
    "pivot_df_total_top = pivot_df_total.sort_values('Total Count', ascending=False).head(top_n)\n",
    "sorted_index = pivot_df_total_top.index\n",
    "pivot_df_total_top = pivot_df_total_top.drop(columns='Total Count')\n",
    "pivot_df_percent = eds.pivot(index='EDS Primary Affiliation', columns='Whatfix User?', values='Percent').fillna(0)\n",
    "pivot_df_percent_top = pivot_df_percent.loc[sorted_index]\n",
    "colors = ['#FF1493', '#40E0D0']\n",
    "\n",
    "fig, ax1 = plt.subplots(figsize=(12, 6))\n",
    "pivot_df_total_top.plot(kind='bar', stacked=True, ax=ax1, color=colors)\n",
    "ax1.set_title(f'Top {top_n} EDS Primary Affiliation by Whatfix Users (Total)')\n",
    "ax1.set_xlabel('EDS Primary Affiliation')\n",
    "ax1.set_xticklabels(ax1.get_xticklabels(), rotation=45, ha='right')\n",
    "ax1.legend(title='Whatfix User?')\n",
    "ax1.yaxis.set_visible(False)\n",
    "for container in ax1.containers:\n",
    "    ax1.bar_label(container, label_type='center', fontsize=8, color='black')\n",
    "\n",
    "fig, ax2 = plt.subplots(figsize=(12, 6))\n",
    "pivot_df_percent_top.plot(kind='bar', stacked=True, ax=ax2, color=colors)\n",
    "ax2.set_title(f'Top {top_n} EDS Primary Affiliation by Whatfix User Percentage')\n",
    "ax2.set_xlabel('EDS Primary Affiliation')\n",
    "ax2.set_xticklabels(ax2.get_xticklabels(), rotation=45, ha='right')\n",
    "ax2.legend(title='Whatfix User?')\n",
    "ax2.yaxis.set_visible(False)\n",
    "for container in ax2.containers:\n",
    "    ax2.bar_label(container, labels=[f'{val:.1f}%' if val > 0 else '' for val in container.datavalues], label_type='center', fontsize=9, color='black')\n",
    "plt.tight_layout()\n",
    "plt.show()"
   ]
  },
  {
   "cell_type": "code",
   "execution_count": null,
   "id": "d1c5bbb1",
   "metadata": {},
   "outputs": [],
   "source": [
    "#Question 6: What's the breakdown of a user's Created Date by Whatfix vs Non-Whatfix Users, and their respective percentages?\n",
    "date = sf_df.groupby(['Whatfix User?', 'Created Date']).size().reset_index(name='Total')\n",
    "date['Percent'] = (date['Total'] / date.groupby('Created Date')['Total'].transform('sum')) * 100\n",
    "date['Percent'] = date['Percent'].round(1)\n",
    "date = date.sort_values(['Created Date', 'Whatfix User?'], ascending=[False, False]).reset_index(drop=True)\n",
    "date"
   ]
  },
  {
   "cell_type": "code",
   "execution_count": null,
   "id": "4a468328",
   "metadata": {},
   "outputs": [],
   "source": [
    "#Question 6 Visuals:\n",
    "date = sf_df.groupby(['Whatfix User?', 'Created Date']).size().reset_index(name='Total')\n",
    "date['Percent'] = (date['Total'] / date.groupby('Created Date')['Total'].transform('sum')) * 100\n",
    "date['Percent'] = date['Percent'].round(1)\n",
    "date = date.sort_values(['Created Date', 'Whatfix User?'], ascending=[False, False]).reset_index(drop=True)\n",
    "pivot_df_total = date.pivot(index='Created Date', columns='Whatfix User?', values='Total').fillna(0)\n",
    "pivot_df_total['Total Count'] = pivot_df_total.sum(axis=1)\n",
    "top_n = 10 #Adjust as needed\n",
    "pivot_df_total_top = pivot_df_total.sort_values('Total Count', ascending=False).head(top_n)\n",
    "sorted_index = pivot_df_total_top.index\n",
    "pivot_df_total_top = pivot_df_total_top.drop(columns='Total Count')\n",
    "pivot_df_percent = date.pivot(index='Created Date', columns='Whatfix User?', values='Percent').fillna(0)\n",
    "pivot_df_percent_top = pivot_df_percent.loc[sorted_index]\n",
    "colors = ['#4682B4', '#FF00FF']\n",
    "\n",
    "fig, ax1 = plt.subplots(figsize=(12, 6))\n",
    "pivot_df_total_top.plot(kind='bar', stacked=True, ax=ax1, color=colors)\n",
    "ax1.set_title(f'Top {top_n} Created Date by Whatfix Users (Total)')\n",
    "ax1.set_xlabel('Created Date')\n",
    "ax1.set_xticklabels(ax1.get_xticklabels(), rotation=45, ha='right')\n",
    "ax1.legend(title='Whatfix User?')\n",
    "ax1.yaxis.set_visible(False)\n",
    "for container in ax1.containers:\n",
    "    ax1.bar_label(container, label_type='center', fontsize=7, color='black')\n",
    "\n",
    "fig, ax2 = plt.subplots(figsize=(12, 6))\n",
    "pivot_df_percent_top.plot(kind='bar', stacked=True, ax=ax2, color=colors)\n",
    "ax2.set_title(f'Top {top_n} Created Date by Whatfix User Percentage')\n",
    "ax2.set_xlabel('Created Date')\n",
    "ax2.set_xticklabels(ax2.get_xticklabels(), rotation=45, ha='right')\n",
    "ax2.legend(title='Whatfix User?')\n",
    "ax2.yaxis.set_visible(False)\n",
    "for container in ax2.containers:\n",
    "    ax2.bar_label(container, labels=[f'{val:.1f}%' if val > 0 else '' for val in container.datavalues], label_type='center', fontsize=10, color='black')\n",
    "\n",
    "plt.tight_layout()\n",
    "plt.show()"
   ]
  },
  {
   "cell_type": "code",
   "execution_count": null,
   "id": "a868696b",
   "metadata": {},
   "outputs": [],
   "source": [
    "#Question 7: What's the breakdown of Roles by Whatfix vs Non-Whatfix Users, and their respective percentages?\n",
    "role = sf_df.groupby(['Whatfix User?', 'User: Role: Name']).size().reset_index(name='Total')\n",
    "role['Percent'] = (role['Total'] / role.groupby('User: Role: Name')['Total'].transform('sum')) * 100\n",
    "role['Percent'] = role['Percent'].round(1)\n",
    "role = role.sort_values(['User: Role: Name', 'Whatfix User?'], ascending=[True, False]).reset_index(drop=True)\n",
    "role"
   ]
  },
  {
   "cell_type": "code",
   "execution_count": null,
   "id": "f61c5522",
   "metadata": {},
   "outputs": [],
   "source": [
    "#Question 7 Visuals:\n",
    "role = sf_df.groupby(['Whatfix User?', 'User: Role: Name']).size().reset_index(name='Total')\n",
    "role['Percent'] = (role['Total'] / role.groupby('User: Role: Name')['Total'].transform('sum')) * 100\n",
    "role['Percent'] = role['Percent'].round(1)\n",
    "role = role.sort_values(['User: Role: Name', 'Whatfix User?'], ascending=[True, False]).reset_index(drop=True)\n",
    "pivot_df_total = role.pivot(index='User: Role: Name', columns='Whatfix User?', values='Total').fillna(0)\n",
    "pivot_df_total['Total Count'] = pivot_df_total.sum(axis=1)\n",
    "top_n = 10 #Adjust as needed\n",
    "pivot_df_total_top = pivot_df_total.sort_values('Total Count', ascending=False).head(top_n)\n",
    "sorted_index = pivot_df_total_top.index\n",
    "pivot_df_total_top = pivot_df_total_top.drop(columns='Total Count')\n",
    "pivot_df_percent = role.pivot(index='User: Role: Name', columns='Whatfix User?', values='Percent').fillna(0)\n",
    "pivot_df_percent_top = pivot_df_percent.loc[sorted_index]\n",
    "colors = ['#FF6347', '#32CD32']\n",
    "\n",
    "fig, ax1 = plt.subplots(figsize=(12, 6))\n",
    "pivot_df_total_top.plot(kind='bar', stacked=True, ax=ax1, color=colors)\n",
    "ax1.set_title(f'Top {top_n} User Roles by Whatfix Users (Total)')\n",
    "ax1.set_xlabel('User Role')\n",
    "ax1.set_xticklabels(ax1.get_xticklabels(), rotation=45, ha='right')\n",
    "ax1.legend(title='Whatfix User?')\n",
    "ax1.yaxis.set_visible(False)\n",
    "for container in ax1.containers:\n",
    "    ax1.bar_label(container, label_type='center', fontsize=10, color='black')\n",
    "\n",
    "fig, ax2 = plt.subplots(figsize=(12, 6))\n",
    "pivot_df_percent_top.plot(kind='bar', stacked=True, ax=ax2, color=colors)\n",
    "ax2.set_title(f'Top {top_n} User Roles by Whatfix User Percentage')\n",
    "ax2.set_xlabel('User Role')\n",
    "ax2.set_xticklabels(ax2.get_xticklabels(), rotation=45, ha='right')\n",
    "ax2.legend(title='Whatfix User?')\n",
    "ax2.yaxis.set_visible(False)\n",
    "for container in ax2.containers:\n",
    "    ax2.bar_label(container, labels=[f'{val:.1f}%' if val > 0 else '' for val in container.datavalues], label_type='center', fontsize=10, color='black')\n",
    "plt.tight_layout()\n",
    "plt.show()"
   ]
  },
  {
   "cell_type": "code",
   "execution_count": null,
   "id": "655eeb5f",
   "metadata": {},
   "outputs": [],
   "source": [
    "#Question 8: How many employees work for each Department?\n",
    "employee = sf_df.groupby('Primary Department: Account Name').size().reset_index(name='Total Employees')\n",
    "employee = employee.sort_values('Total Employees', ascending=False).reset_index(drop=True)\n",
    "employee"
   ]
  },
  {
   "cell_type": "code",
   "execution_count": null,
   "id": "12e99a3b",
   "metadata": {},
   "outputs": [],
   "source": [
    "#Question 8 Visual:\n",
    "top_n = 20 #Adjust as needed\n",
    "employee = sf_df.groupby('Primary Department: Account Name').size().reset_index(name='Total Employees')\n",
    "employee = employee.sort_values('Total Employees', ascending=False).reset_index(drop=True)\n",
    "employee_top_n = employee.head(top_n)\n",
    "fig, ax = plt.subplots(figsize=(10, 6))\n",
    "ax.bar(employee_top_n['Primary Department: Account Name'], employee_top_n['Total Employees'], color='darkblue')\n",
    "ax.set_title(f'Top {top_n} Departments by Total Employees')\n",
    "ax.set_xlabel('Department')\n",
    "ax.set_ylabel('Total Employees')\n",
    "ax.set_xticks(range(len(employee_top_n)))  # Set the positions of the ticks\n",
    "ax.set_xticklabels(employee_top_n['Primary Department: Account Name'], rotation=45, ha='right')\n",
    "plt.tight_layout()\n",
    "plt.show()"
   ]
  },
  {
   "cell_type": "code",
   "execution_count": null,
   "id": "095ac422",
   "metadata": {},
   "outputs": [],
   "source": [
    "#Question 10: What Roles had over 15 total employees?\n",
    "grouped_df = sf_df.groupby('User: Role: Name').size().reset_index(name='Total Employees')\n",
    "filtered_df = grouped_df[grouped_df['Total Employees'] >= 15]\n",
    "sorted_df = filtered_df.sort_values('Total Employees', ascending=False).reset_index(drop=True)\n",
    "sorted_df"
   ]
  },
  {
   "cell_type": "code",
   "execution_count": null,
   "id": "6cb9f3e3",
   "metadata": {},
   "outputs": [],
   "source": [
    "#Question 10 Visual:\n",
    "grouped_df = sf_df.groupby('User: Role: Name').size().reset_index(name='Total Employees')\n",
    "filtered_df = grouped_df[grouped_df['Total Employees'] >= 15]\n",
    "sorted_df = filtered_df.sort_values('Total Employees', ascending=False).reset_index(drop=True)\n",
    "fig, ax = plt.subplots(figsize=(10, 6))\n",
    "ax.bar(sorted_df['User: Role: Name'], sorted_df['Total Employees'], color='purple')\n",
    "ax.set_title('Employee Count by Role (>= 15 Employees)')\n",
    "ax.set_xlabel('Role')\n",
    "ax.set_ylabel('Total Employees')\n",
    "ax.set_xticks(range(len(sorted_df)))  # Set the positions of the ticks\n",
    "ax.set_xticklabels(sorted_df['User: Role: Name'], rotation=45, ha='right')\n",
    "plt.tight_layout()\n",
    "plt.show()"
   ]
  }
 ],
 "metadata": {
  "kernelspec": {
   "display_name": "Python 3 (ipykernel)",
   "language": "python",
   "name": "python3"
  },
  "language_info": {
   "codemirror_mode": {
    "name": "ipython",
    "version": 3
   },
   "file_extension": ".py",
   "mimetype": "text/x-python",
   "name": "python",
   "nbconvert_exporter": "python",
   "pygments_lexer": "ipython3",
   "version": "3.11.5"
  }
 },
 "nbformat": 4,
 "nbformat_minor": 5
}
